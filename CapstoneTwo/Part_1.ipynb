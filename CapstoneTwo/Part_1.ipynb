{
 "cells": [
  {
   "cell_type": "code",
   "execution_count": 33,
   "metadata": {},
   "outputs": [],
   "source": [
    "import pandas as pd\n",
    "import numpy as np\n",
    "from sklearn.model_selection import train_test_split\n",
    "from sklearn.preprocessing import StandardScaler"
   ]
  },
  {
   "cell_type": "code",
   "execution_count": 34,
   "metadata": {},
   "outputs": [],
   "source": [
    "f=pd.read_csv('fish_cleaned.csv')"
   ]
  },
  {
   "cell_type": "code",
   "execution_count": 35,
   "metadata": {},
   "outputs": [
    {
     "data": {
      "text/html": [
       "<div>\n",
       "<style scoped>\n",
       "    .dataframe tbody tr th:only-of-type {\n",
       "        vertical-align: middle;\n",
       "    }\n",
       "\n",
       "    .dataframe tbody tr th {\n",
       "        vertical-align: top;\n",
       "    }\n",
       "\n",
       "    .dataframe thead th {\n",
       "        text-align: right;\n",
       "    }\n",
       "</style>\n",
       "<table border=\"1\" class=\"dataframe\">\n",
       "  <thead>\n",
       "    <tr style=\"text-align: right;\">\n",
       "      <th></th>\n",
       "      <th>ph</th>\n",
       "      <th>cond</th>\n",
       "      <th>ca</th>\n",
       "      <th>so4</th>\n",
       "      <th>no3</th>\n",
       "      <th>cl</th>\n",
       "      <th>alk</th>\n",
       "      <th>do</th>\n",
       "      <th>temp</th>\n",
       "      <th>abund</th>\n",
       "      <th>count</th>\n",
       "    </tr>\n",
       "  </thead>\n",
       "  <tbody>\n",
       "    <tr>\n",
       "      <th>0</th>\n",
       "      <td>7.92</td>\n",
       "      <td>90.3</td>\n",
       "      <td>520.603664</td>\n",
       "      <td>2023.14771</td>\n",
       "      <td>495.79066</td>\n",
       "      <td>11.32551</td>\n",
       "      <td>207.945967</td>\n",
       "      <td>12.93</td>\n",
       "      <td>12.2</td>\n",
       "      <td>26.0</td>\n",
       "      <td>552.0</td>\n",
       "    </tr>\n",
       "    <tr>\n",
       "      <th>1</th>\n",
       "      <td>7.92</td>\n",
       "      <td>90.3</td>\n",
       "      <td>520.603664</td>\n",
       "      <td>2023.14771</td>\n",
       "      <td>495.79066</td>\n",
       "      <td>11.32551</td>\n",
       "      <td>207.945967</td>\n",
       "      <td>12.93</td>\n",
       "      <td>12.2</td>\n",
       "      <td>24.0</td>\n",
       "      <td>552.0</td>\n",
       "    </tr>\n",
       "    <tr>\n",
       "      <th>2</th>\n",
       "      <td>7.92</td>\n",
       "      <td>90.3</td>\n",
       "      <td>520.603664</td>\n",
       "      <td>2023.14771</td>\n",
       "      <td>495.79066</td>\n",
       "      <td>11.32551</td>\n",
       "      <td>207.945967</td>\n",
       "      <td>12.93</td>\n",
       "      <td>12.2</td>\n",
       "      <td>70.0</td>\n",
       "      <td>552.0</td>\n",
       "    </tr>\n",
       "    <tr>\n",
       "      <th>3</th>\n",
       "      <td>7.92</td>\n",
       "      <td>90.3</td>\n",
       "      <td>520.603664</td>\n",
       "      <td>2023.14771</td>\n",
       "      <td>495.79066</td>\n",
       "      <td>11.32551</td>\n",
       "      <td>207.945967</td>\n",
       "      <td>12.93</td>\n",
       "      <td>12.2</td>\n",
       "      <td>5.0</td>\n",
       "      <td>552.0</td>\n",
       "    </tr>\n",
       "    <tr>\n",
       "      <th>4</th>\n",
       "      <td>7.92</td>\n",
       "      <td>90.3</td>\n",
       "      <td>520.603664</td>\n",
       "      <td>2023.14771</td>\n",
       "      <td>495.79066</td>\n",
       "      <td>11.32551</td>\n",
       "      <td>207.945967</td>\n",
       "      <td>12.93</td>\n",
       "      <td>12.2</td>\n",
       "      <td>1.0</td>\n",
       "      <td>552.0</td>\n",
       "    </tr>\n",
       "  </tbody>\n",
       "</table>\n",
       "</div>"
      ],
      "text/plain": [
       "     ph  cond          ca         so4        no3        cl         alk     do  \\\n",
       "0  7.92  90.3  520.603664  2023.14771  495.79066  11.32551  207.945967  12.93   \n",
       "1  7.92  90.3  520.603664  2023.14771  495.79066  11.32551  207.945967  12.93   \n",
       "2  7.92  90.3  520.603664  2023.14771  495.79066  11.32551  207.945967  12.93   \n",
       "3  7.92  90.3  520.603664  2023.14771  495.79066  11.32551  207.945967  12.93   \n",
       "4  7.92  90.3  520.603664  2023.14771  495.79066  11.32551  207.945967  12.93   \n",
       "\n",
       "   temp  abund  count  \n",
       "0  12.2   26.0  552.0  \n",
       "1  12.2   24.0  552.0  \n",
       "2  12.2   70.0  552.0  \n",
       "3  12.2    5.0  552.0  \n",
       "4  12.2    1.0  552.0  "
      ]
     },
     "execution_count": 35,
     "metadata": {},
     "output_type": "execute_result"
    }
   ],
   "source": [
    "f.head()"
   ]
  },
  {
   "cell_type": "code",
   "execution_count": 36,
   "metadata": {},
   "outputs": [],
   "source": [
    "# decided to only use 'count', because unsure how 'abund' is collected\n",
    "f=f.drop('abund',axis=1)"
   ]
  },
  {
   "cell_type": "code",
   "execution_count": 37,
   "metadata": {},
   "outputs": [],
   "source": [
    "X=f.drop('count',axis=1)\n",
    "y=f['count']"
   ]
  },
  {
   "cell_type": "code",
   "execution_count": 50,
   "metadata": {},
   "outputs": [],
   "source": [
    "X_train,X_test,y_train,y_test=train_test_split(X,y, test_size=0.25, random_state=0)"
   ]
  },
  {
   "cell_type": "code",
   "execution_count": 51,
   "metadata": {},
   "outputs": [],
   "source": [
    "scaler=StandardScaler()\n",
    "X_train=scaler.fit_transform(X_train)\n",
    "X_test=scaler.transform(X_test)"
   ]
  },
  {
   "cell_type": "code",
   "execution_count": 52,
   "metadata": {},
   "outputs": [],
   "source": [
    "from sklearn import linear_model\n",
    "regr=linear_model.LinearRegression()\n",
    "regr.fit(X_train, y_train)\n",
    "y_pred=regr.predict(X_test)"
   ]
  },
  {
   "cell_type": "code",
   "execution_count": 53,
   "metadata": {},
   "outputs": [
    {
     "name": "stdout",
     "output_type": "stream",
     "text": [
      "829.6980255516838\n",
      "[  40.43267365 -244.43999379   49.00498515  -63.59333759 -120.62389364\n",
      "  106.64848952  230.96430397   99.81050068  242.75269532]\n"
     ]
    }
   ],
   "source": [
    "print(regr.intercept_)\n",
    "print(regr.coef_)"
   ]
  },
  {
   "cell_type": "code",
   "execution_count": 54,
   "metadata": {},
   "outputs": [
    {
     "name": "stdout",
     "output_type": "stream",
     "text": [
      "536426.3454195808\n",
      "0.22468808261587636\n"
     ]
    }
   ],
   "source": [
    "from sklearn.metrics import mean_squared_error, r2_score\n",
    "print(mean_squared_error(y_test,y_pred))\n",
    "print(r2_score(y_test,y_pred))"
   ]
  },
  {
   "cell_type": "code",
   "execution_count": 55,
   "metadata": {},
   "outputs": [
    {
     "name": "stdout",
     "output_type": "stream",
     "text": [
      "0.23240790675911627\n"
     ]
    }
   ],
   "source": [
    "print(regr.score(X_train, y_train))"
   ]
  }
 ],
 "metadata": {
  "kernelspec": {
   "display_name": "Python 3",
   "language": "python",
   "name": "python3"
  },
  "language_info": {
   "codemirror_mode": {
    "name": "ipython",
    "version": 3
   },
   "file_extension": ".py",
   "mimetype": "text/x-python",
   "name": "python",
   "nbconvert_exporter": "python",
   "pygments_lexer": "ipython3",
   "version": "3.8.5"
  }
 },
 "nbformat": 4,
 "nbformat_minor": 4
}
