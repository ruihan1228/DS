{
 "cells": [
  {
   "cell_type": "code",
   "execution_count": 1,
   "metadata": {},
   "outputs": [],
   "source": [
    "import pandas as pd\n",
    "import numpy as np\n",
    "from sklearn.model_selection import train_test_split\n",
    "from sklearn.preprocessing import StandardScaler"
   ]
  },
  {
   "cell_type": "code",
   "execution_count": 4,
   "metadata": {},
   "outputs": [],
   "source": [
    "f=pd.read_csv('fish_cleaned.csv')"
   ]
  },
  {
   "cell_type": "code",
   "execution_count": 5,
   "metadata": {},
   "outputs": [
    {
     "data": {
      "text/html": [
       "<div>\n",
       "<style scoped>\n",
       "    .dataframe tbody tr th:only-of-type {\n",
       "        vertical-align: middle;\n",
       "    }\n",
       "\n",
       "    .dataframe tbody tr th {\n",
       "        vertical-align: top;\n",
       "    }\n",
       "\n",
       "    .dataframe thead th {\n",
       "        text-align: right;\n",
       "    }\n",
       "</style>\n",
       "<table border=\"1\" class=\"dataframe\">\n",
       "  <thead>\n",
       "    <tr style=\"text-align: right;\">\n",
       "      <th></th>\n",
       "      <th>ph</th>\n",
       "      <th>cond</th>\n",
       "      <th>ca</th>\n",
       "      <th>so4</th>\n",
       "      <th>no3</th>\n",
       "      <th>cl</th>\n",
       "      <th>alk</th>\n",
       "      <th>do</th>\n",
       "      <th>temp</th>\n",
       "      <th>count</th>\n",
       "    </tr>\n",
       "  </thead>\n",
       "  <tbody>\n",
       "    <tr>\n",
       "      <th>0</th>\n",
       "      <td>7.92</td>\n",
       "      <td>90.3</td>\n",
       "      <td>520.603664</td>\n",
       "      <td>2023.147710</td>\n",
       "      <td>495.790660</td>\n",
       "      <td>11.325510</td>\n",
       "      <td>207.945967</td>\n",
       "      <td>12.93</td>\n",
       "      <td>12.2</td>\n",
       "      <td>552.0</td>\n",
       "    </tr>\n",
       "    <tr>\n",
       "      <th>1</th>\n",
       "      <td>7.48</td>\n",
       "      <td>392.1</td>\n",
       "      <td>2690.990122</td>\n",
       "      <td>3750.857482</td>\n",
       "      <td>2030.268431</td>\n",
       "      <td>135.572335</td>\n",
       "      <td>6.278784</td>\n",
       "      <td>9.65</td>\n",
       "      <td>20.7</td>\n",
       "      <td>10.0</td>\n",
       "    </tr>\n",
       "    <tr>\n",
       "      <th>2</th>\n",
       "      <td>8.08</td>\n",
       "      <td>155.6</td>\n",
       "      <td>1467.608893</td>\n",
       "      <td>575.664710</td>\n",
       "      <td>495.536923</td>\n",
       "      <td>108.268626</td>\n",
       "      <td>1401.309989</td>\n",
       "      <td>16.38</td>\n",
       "      <td>16.6</td>\n",
       "      <td>826.0</td>\n",
       "    </tr>\n",
       "    <tr>\n",
       "      <th>3</th>\n",
       "      <td>8.80</td>\n",
       "      <td>221.1</td>\n",
       "      <td>1630.593477</td>\n",
       "      <td>692.598148</td>\n",
       "      <td>210.729301</td>\n",
       "      <td>146.294127</td>\n",
       "      <td>1438.082581</td>\n",
       "      <td>8.90</td>\n",
       "      <td>24.9</td>\n",
       "      <td>470.0</td>\n",
       "    </tr>\n",
       "    <tr>\n",
       "      <th>4</th>\n",
       "      <td>7.99</td>\n",
       "      <td>48.0</td>\n",
       "      <td>1102.264244</td>\n",
       "      <td>322.952574</td>\n",
       "      <td>50.174695</td>\n",
       "      <td>64.917058</td>\n",
       "      <td>1177.024981</td>\n",
       "      <td>9.50</td>\n",
       "      <td>20.1</td>\n",
       "      <td>940.0</td>\n",
       "    </tr>\n",
       "  </tbody>\n",
       "</table>\n",
       "</div>"
      ],
      "text/plain": [
       "     ph   cond           ca          so4          no3          cl  \\\n",
       "0  7.92   90.3   520.603664  2023.147710   495.790660   11.325510   \n",
       "1  7.48  392.1  2690.990122  3750.857482  2030.268431  135.572335   \n",
       "2  8.08  155.6  1467.608893   575.664710   495.536923  108.268626   \n",
       "3  8.80  221.1  1630.593477   692.598148   210.729301  146.294127   \n",
       "4  7.99   48.0  1102.264244   322.952574    50.174695   64.917058   \n",
       "\n",
       "           alk     do  temp  count  \n",
       "0   207.945967  12.93  12.2  552.0  \n",
       "1     6.278784   9.65  20.7   10.0  \n",
       "2  1401.309989  16.38  16.6  826.0  \n",
       "3  1438.082581   8.90  24.9  470.0  \n",
       "4  1177.024981   9.50  20.1  940.0  "
      ]
     },
     "execution_count": 5,
     "metadata": {},
     "output_type": "execute_result"
    }
   ],
   "source": [
    "f.head()"
   ]
  },
  {
   "cell_type": "code",
   "execution_count": 6,
   "metadata": {},
   "outputs": [],
   "source": [
    "X=f.drop('count',axis=1)\n",
    "y=f['count']"
   ]
  },
  {
   "cell_type": "markdown",
   "metadata": {},
   "source": [
    "Linear Regression"
   ]
  },
  {
   "cell_type": "code",
   "execution_count": 7,
   "metadata": {},
   "outputs": [],
   "source": [
    "X_train,X_test,y_train,y_test=train_test_split(X,y, test_size=0.25, random_state=0)"
   ]
  },
  {
   "cell_type": "code",
   "execution_count": 8,
   "metadata": {},
   "outputs": [],
   "source": [
    "scaler=StandardScaler()\n",
    "X_train=scaler.fit_transform(X_train)\n",
    "X_test=scaler.transform(X_test)"
   ]
  },
  {
   "cell_type": "code",
   "execution_count": 34,
   "metadata": {},
   "outputs": [],
   "source": [
    "from sklearn import linear_model\n",
    "lr=linear_model.LinearRegression()\n",
    "lr.fit(X_train, y_train)\n",
    "y_pred=lr.predict(X_test)"
   ]
  },
  {
   "cell_type": "code",
   "execution_count": 36,
   "metadata": {},
   "outputs": [
    {
     "name": "stdout",
     "output_type": "stream",
     "text": [
      "MSE  531421.076292651\n",
      "R2  0.21941890096944905\n"
     ]
    }
   ],
   "source": [
    "from sklearn.metrics import mean_squared_error, r2_score\n",
    "print('MSE ', mean_squared_error(y_test,y_pred))\n",
    "print('R2 ', r2_score(y_test,y_test))"
   ]
  },
  {
   "cell_type": "markdown",
   "metadata": {},
   "source": [
    "Random Forest Regression"
   ]
  },
  {
   "cell_type": "code",
   "execution_count": 39,
   "metadata": {},
   "outputs": [],
   "source": [
    "from sklearn.ensemble import RandomForestRegressor\n",
    "rf=RandomForestRegressor(n_estimators=100, random_state=0)\n",
    "rf.fit(X_train, y_train)\n",
    "y_pred=rf.predict(X_test)"
   ]
  },
  {
   "cell_type": "code",
   "execution_count": 40,
   "metadata": {},
   "outputs": [
    {
     "name": "stdout",
     "output_type": "stream",
     "text": [
      "MSE  503377.0128210064\n",
      "R2  0.2606115951672301\n"
     ]
    }
   ],
   "source": [
    "print('MSE ', mean_squared_error(y_test,y_pred))\n",
    "print('R2 ', r2_score(y_test,y_pred))"
   ]
  }
 ],
 "metadata": {
  "kernelspec": {
   "display_name": "Python 3",
   "language": "python",
   "name": "python3"
  },
  "language_info": {
   "codemirror_mode": {
    "name": "ipython",
    "version": 3
   },
   "file_extension": ".py",
   "mimetype": "text/x-python",
   "name": "python",
   "nbconvert_exporter": "python",
   "pygments_lexer": "ipython3",
   "version": "3.8.5"
  }
 },
 "nbformat": 4,
 "nbformat_minor": 4
}
