{
 "cells": [
  {
   "cell_type": "code",
   "execution_count": 45,
   "metadata": {},
   "outputs": [],
   "source": [
    "import pandas as pd\n",
    "import numpy as np\n",
    "\n",
    "import matplotlib.pyplot as plt\n",
    "import seaborn as sns\n",
    "\n",
    "from sklearn.preprocessing import OrdinalEncoder, OneHotEncoder\n",
    "from sklearn.preprocessing import MinMaxScaler\n",
    "from imblearn.over_sampling import RandomOverSampler, SMOTE\n",
    "from sklearn.model_selection import train_test_split\n",
    "from sklearn.linear_model import LogisticRegression\n",
    "\n",
    "from sklearn.metrics import confusion_matrix, ConfusionMatrixDisplay, classification_report, roc_curve, roc_auc_score, f1_score, accuracy_score"
   ]
  },
  {
   "cell_type": "code",
   "execution_count": 2,
   "metadata": {},
   "outputs": [],
   "source": [
    "heart = pd.read_csv('heart_2020_cleaned.csv')"
   ]
  },
  {
   "cell_type": "code",
   "execution_count": 3,
   "metadata": {},
   "outputs": [
    {
     "data": {
      "text/html": [
       "<div>\n",
       "<style scoped>\n",
       "    .dataframe tbody tr th:only-of-type {\n",
       "        vertical-align: middle;\n",
       "    }\n",
       "\n",
       "    .dataframe tbody tr th {\n",
       "        vertical-align: top;\n",
       "    }\n",
       "\n",
       "    .dataframe thead th {\n",
       "        text-align: right;\n",
       "    }\n",
       "</style>\n",
       "<table border=\"1\" class=\"dataframe\">\n",
       "  <thead>\n",
       "    <tr style=\"text-align: right;\">\n",
       "      <th></th>\n",
       "      <th>HeartDisease</th>\n",
       "      <th>BMI</th>\n",
       "      <th>Smoking</th>\n",
       "      <th>AlcoholDrinking</th>\n",
       "      <th>Stroke</th>\n",
       "      <th>PhysicalHealth</th>\n",
       "      <th>MentalHealth</th>\n",
       "      <th>DiffWalking</th>\n",
       "      <th>Sex</th>\n",
       "      <th>AgeCategory</th>\n",
       "      <th>Race</th>\n",
       "      <th>Diabetic</th>\n",
       "      <th>PhysicalActivity</th>\n",
       "      <th>GenHealth</th>\n",
       "      <th>SleepTime</th>\n",
       "      <th>Asthma</th>\n",
       "      <th>KidneyDisease</th>\n",
       "      <th>SkinCancer</th>\n",
       "    </tr>\n",
       "  </thead>\n",
       "  <tbody>\n",
       "    <tr>\n",
       "      <th>0</th>\n",
       "      <td>No</td>\n",
       "      <td>16.60</td>\n",
       "      <td>Yes</td>\n",
       "      <td>No</td>\n",
       "      <td>No</td>\n",
       "      <td>3.0</td>\n",
       "      <td>30.0</td>\n",
       "      <td>No</td>\n",
       "      <td>Female</td>\n",
       "      <td>55-59</td>\n",
       "      <td>White</td>\n",
       "      <td>Yes</td>\n",
       "      <td>Yes</td>\n",
       "      <td>Very good</td>\n",
       "      <td>5.0</td>\n",
       "      <td>Yes</td>\n",
       "      <td>No</td>\n",
       "      <td>Yes</td>\n",
       "    </tr>\n",
       "    <tr>\n",
       "      <th>1</th>\n",
       "      <td>No</td>\n",
       "      <td>20.34</td>\n",
       "      <td>No</td>\n",
       "      <td>No</td>\n",
       "      <td>Yes</td>\n",
       "      <td>0.0</td>\n",
       "      <td>0.0</td>\n",
       "      <td>No</td>\n",
       "      <td>Female</td>\n",
       "      <td>80 or older</td>\n",
       "      <td>White</td>\n",
       "      <td>No</td>\n",
       "      <td>Yes</td>\n",
       "      <td>Very good</td>\n",
       "      <td>7.0</td>\n",
       "      <td>No</td>\n",
       "      <td>No</td>\n",
       "      <td>No</td>\n",
       "    </tr>\n",
       "    <tr>\n",
       "      <th>2</th>\n",
       "      <td>No</td>\n",
       "      <td>26.58</td>\n",
       "      <td>Yes</td>\n",
       "      <td>No</td>\n",
       "      <td>No</td>\n",
       "      <td>20.0</td>\n",
       "      <td>30.0</td>\n",
       "      <td>No</td>\n",
       "      <td>Male</td>\n",
       "      <td>65-69</td>\n",
       "      <td>White</td>\n",
       "      <td>Yes</td>\n",
       "      <td>Yes</td>\n",
       "      <td>Fair</td>\n",
       "      <td>8.0</td>\n",
       "      <td>Yes</td>\n",
       "      <td>No</td>\n",
       "      <td>No</td>\n",
       "    </tr>\n",
       "    <tr>\n",
       "      <th>3</th>\n",
       "      <td>No</td>\n",
       "      <td>24.21</td>\n",
       "      <td>No</td>\n",
       "      <td>No</td>\n",
       "      <td>No</td>\n",
       "      <td>0.0</td>\n",
       "      <td>0.0</td>\n",
       "      <td>No</td>\n",
       "      <td>Female</td>\n",
       "      <td>75-79</td>\n",
       "      <td>White</td>\n",
       "      <td>No</td>\n",
       "      <td>No</td>\n",
       "      <td>Good</td>\n",
       "      <td>6.0</td>\n",
       "      <td>No</td>\n",
       "      <td>No</td>\n",
       "      <td>Yes</td>\n",
       "    </tr>\n",
       "    <tr>\n",
       "      <th>4</th>\n",
       "      <td>No</td>\n",
       "      <td>23.71</td>\n",
       "      <td>No</td>\n",
       "      <td>No</td>\n",
       "      <td>No</td>\n",
       "      <td>28.0</td>\n",
       "      <td>0.0</td>\n",
       "      <td>Yes</td>\n",
       "      <td>Female</td>\n",
       "      <td>40-44</td>\n",
       "      <td>White</td>\n",
       "      <td>No</td>\n",
       "      <td>Yes</td>\n",
       "      <td>Very good</td>\n",
       "      <td>8.0</td>\n",
       "      <td>No</td>\n",
       "      <td>No</td>\n",
       "      <td>No</td>\n",
       "    </tr>\n",
       "    <tr>\n",
       "      <th>...</th>\n",
       "      <td>...</td>\n",
       "      <td>...</td>\n",
       "      <td>...</td>\n",
       "      <td>...</td>\n",
       "      <td>...</td>\n",
       "      <td>...</td>\n",
       "      <td>...</td>\n",
       "      <td>...</td>\n",
       "      <td>...</td>\n",
       "      <td>...</td>\n",
       "      <td>...</td>\n",
       "      <td>...</td>\n",
       "      <td>...</td>\n",
       "      <td>...</td>\n",
       "      <td>...</td>\n",
       "      <td>...</td>\n",
       "      <td>...</td>\n",
       "      <td>...</td>\n",
       "    </tr>\n",
       "    <tr>\n",
       "      <th>319790</th>\n",
       "      <td>Yes</td>\n",
       "      <td>27.41</td>\n",
       "      <td>Yes</td>\n",
       "      <td>No</td>\n",
       "      <td>No</td>\n",
       "      <td>7.0</td>\n",
       "      <td>0.0</td>\n",
       "      <td>Yes</td>\n",
       "      <td>Male</td>\n",
       "      <td>60-64</td>\n",
       "      <td>Hispanic</td>\n",
       "      <td>Yes</td>\n",
       "      <td>No</td>\n",
       "      <td>Fair</td>\n",
       "      <td>6.0</td>\n",
       "      <td>Yes</td>\n",
       "      <td>No</td>\n",
       "      <td>No</td>\n",
       "    </tr>\n",
       "    <tr>\n",
       "      <th>319791</th>\n",
       "      <td>No</td>\n",
       "      <td>29.84</td>\n",
       "      <td>Yes</td>\n",
       "      <td>No</td>\n",
       "      <td>No</td>\n",
       "      <td>0.0</td>\n",
       "      <td>0.0</td>\n",
       "      <td>No</td>\n",
       "      <td>Male</td>\n",
       "      <td>35-39</td>\n",
       "      <td>Hispanic</td>\n",
       "      <td>No</td>\n",
       "      <td>Yes</td>\n",
       "      <td>Very good</td>\n",
       "      <td>5.0</td>\n",
       "      <td>Yes</td>\n",
       "      <td>No</td>\n",
       "      <td>No</td>\n",
       "    </tr>\n",
       "    <tr>\n",
       "      <th>319792</th>\n",
       "      <td>No</td>\n",
       "      <td>24.24</td>\n",
       "      <td>No</td>\n",
       "      <td>No</td>\n",
       "      <td>No</td>\n",
       "      <td>0.0</td>\n",
       "      <td>0.0</td>\n",
       "      <td>No</td>\n",
       "      <td>Female</td>\n",
       "      <td>45-49</td>\n",
       "      <td>Hispanic</td>\n",
       "      <td>No</td>\n",
       "      <td>Yes</td>\n",
       "      <td>Good</td>\n",
       "      <td>6.0</td>\n",
       "      <td>No</td>\n",
       "      <td>No</td>\n",
       "      <td>No</td>\n",
       "    </tr>\n",
       "    <tr>\n",
       "      <th>319793</th>\n",
       "      <td>No</td>\n",
       "      <td>32.81</td>\n",
       "      <td>No</td>\n",
       "      <td>No</td>\n",
       "      <td>No</td>\n",
       "      <td>0.0</td>\n",
       "      <td>0.0</td>\n",
       "      <td>No</td>\n",
       "      <td>Female</td>\n",
       "      <td>25-29</td>\n",
       "      <td>Hispanic</td>\n",
       "      <td>No</td>\n",
       "      <td>No</td>\n",
       "      <td>Good</td>\n",
       "      <td>12.0</td>\n",
       "      <td>No</td>\n",
       "      <td>No</td>\n",
       "      <td>No</td>\n",
       "    </tr>\n",
       "    <tr>\n",
       "      <th>319794</th>\n",
       "      <td>No</td>\n",
       "      <td>46.56</td>\n",
       "      <td>No</td>\n",
       "      <td>No</td>\n",
       "      <td>No</td>\n",
       "      <td>0.0</td>\n",
       "      <td>0.0</td>\n",
       "      <td>No</td>\n",
       "      <td>Female</td>\n",
       "      <td>80 or older</td>\n",
       "      <td>Hispanic</td>\n",
       "      <td>No</td>\n",
       "      <td>Yes</td>\n",
       "      <td>Good</td>\n",
       "      <td>8.0</td>\n",
       "      <td>No</td>\n",
       "      <td>No</td>\n",
       "      <td>No</td>\n",
       "    </tr>\n",
       "  </tbody>\n",
       "</table>\n",
       "<p>319795 rows × 18 columns</p>\n",
       "</div>"
      ],
      "text/plain": [
       "       HeartDisease    BMI Smoking AlcoholDrinking Stroke  PhysicalHealth  \\\n",
       "0                No  16.60     Yes              No     No             3.0   \n",
       "1                No  20.34      No              No    Yes             0.0   \n",
       "2                No  26.58     Yes              No     No            20.0   \n",
       "3                No  24.21      No              No     No             0.0   \n",
       "4                No  23.71      No              No     No            28.0   \n",
       "...             ...    ...     ...             ...    ...             ...   \n",
       "319790          Yes  27.41     Yes              No     No             7.0   \n",
       "319791           No  29.84     Yes              No     No             0.0   \n",
       "319792           No  24.24      No              No     No             0.0   \n",
       "319793           No  32.81      No              No     No             0.0   \n",
       "319794           No  46.56      No              No     No             0.0   \n",
       "\n",
       "        MentalHealth DiffWalking     Sex  AgeCategory      Race Diabetic  \\\n",
       "0               30.0          No  Female        55-59     White      Yes   \n",
       "1                0.0          No  Female  80 or older     White       No   \n",
       "2               30.0          No    Male        65-69     White      Yes   \n",
       "3                0.0          No  Female        75-79     White       No   \n",
       "4                0.0         Yes  Female        40-44     White       No   \n",
       "...              ...         ...     ...          ...       ...      ...   \n",
       "319790           0.0         Yes    Male        60-64  Hispanic      Yes   \n",
       "319791           0.0          No    Male        35-39  Hispanic       No   \n",
       "319792           0.0          No  Female        45-49  Hispanic       No   \n",
       "319793           0.0          No  Female        25-29  Hispanic       No   \n",
       "319794           0.0          No  Female  80 or older  Hispanic       No   \n",
       "\n",
       "       PhysicalActivity  GenHealth  SleepTime Asthma KidneyDisease SkinCancer  \n",
       "0                   Yes  Very good        5.0    Yes            No        Yes  \n",
       "1                   Yes  Very good        7.0     No            No         No  \n",
       "2                   Yes       Fair        8.0    Yes            No         No  \n",
       "3                    No       Good        6.0     No            No        Yes  \n",
       "4                   Yes  Very good        8.0     No            No         No  \n",
       "...                 ...        ...        ...    ...           ...        ...  \n",
       "319790               No       Fair        6.0    Yes            No         No  \n",
       "319791              Yes  Very good        5.0    Yes            No         No  \n",
       "319792              Yes       Good        6.0     No            No         No  \n",
       "319793               No       Good       12.0     No            No         No  \n",
       "319794              Yes       Good        8.0     No            No         No  \n",
       "\n",
       "[319795 rows x 18 columns]"
      ]
     },
     "execution_count": 3,
     "metadata": {},
     "output_type": "execute_result"
    }
   ],
   "source": [
    "heart"
   ]
  },
  {
   "cell_type": "code",
   "execution_count": 4,
   "metadata": {},
   "outputs": [
    {
     "name": "stdout",
     "output_type": "stream",
     "text": [
      "<class 'pandas.core.frame.DataFrame'>\n",
      "RangeIndex: 319795 entries, 0 to 319794\n",
      "Data columns (total 18 columns):\n",
      " #   Column            Non-Null Count   Dtype  \n",
      "---  ------            --------------   -----  \n",
      " 0   HeartDisease      319795 non-null  object \n",
      " 1   BMI               319795 non-null  float64\n",
      " 2   Smoking           319795 non-null  object \n",
      " 3   AlcoholDrinking   319795 non-null  object \n",
      " 4   Stroke            319795 non-null  object \n",
      " 5   PhysicalHealth    319795 non-null  float64\n",
      " 6   MentalHealth      319795 non-null  float64\n",
      " 7   DiffWalking       319795 non-null  object \n",
      " 8   Sex               319795 non-null  object \n",
      " 9   AgeCategory       319795 non-null  object \n",
      " 10  Race              319795 non-null  object \n",
      " 11  Diabetic          319795 non-null  object \n",
      " 12  PhysicalActivity  319795 non-null  object \n",
      " 13  GenHealth         319795 non-null  object \n",
      " 14  SleepTime         319795 non-null  float64\n",
      " 15  Asthma            319795 non-null  object \n",
      " 16  KidneyDisease     319795 non-null  object \n",
      " 17  SkinCancer        319795 non-null  object \n",
      "dtypes: float64(4), object(14)\n",
      "memory usage: 43.9+ MB\n"
     ]
    }
   ],
   "source": [
    "heart.info()"
   ]
  },
  {
   "cell_type": "code",
   "execution_count": 5,
   "metadata": {},
   "outputs": [],
   "source": [
    "numerical = ['BMI', 'PhysicalHealth', 'MentalHealth', 'SleepTime']"
   ]
  },
  {
   "cell_type": "code",
   "execution_count": 6,
   "metadata": {},
   "outputs": [
    {
     "data": {
      "image/png": "[encoded data removed]",
      "text/plain": [
       "<Figure size 1080x720 with 4 Axes>"
      ]
     },
     "metadata": {
      "needs_background": "light"
     },
     "output_type": "display_data"
    }
   ],
   "source": [
    "fig, ax = plt.subplots(2,2, figsize=(15,10))\n",
    "fig.tight_layout(pad=8.0)\n",
    "for variable, subplot in zip(numerical, ax.flatten()):\n",
    "    sns.boxplot(x=heart[variable], ax=subplot)"
   ]
  },
  {
   "cell_type": "code",
   "execution_count": 7,
   "metadata": {},
   "outputs": [],
   "source": [
    "categorical = ['HeartDisease','Smoking', 'AlcoholDrinking', 'Stroke',\n",
    "       'DiffWalking', 'Sex', 'AgeCategory','Race', 'Diabetic', 'PhysicalActivity', \n",
    "       'GenHealth', 'Asthma', 'KidneyDisease', 'SkinCancer']"
   ]
  },
  {
   "cell_type": "code",
   "execution_count": 8,
   "metadata": {},
   "outputs": [
    {
     "data": {
      "text/plain": [
       "No                         269653\n",
       "Yes                         40802\n",
       "No, borderline diabetes      6781\n",
       "Yes (during pregnancy)       2559\n",
       "Name: Diabetic, dtype: int64"
      ]
     },
     "execution_count": 8,
     "metadata": {},
     "output_type": "execute_result"
    }
   ],
   "source": [
    "heart['Diabetic'].value_counts()"
   ]
  },
  {
   "cell_type": "code",
   "execution_count": 9,
   "metadata": {},
   "outputs": [],
   "source": [
    "# Consolidate Yes No categories in Diabetic column\n",
    "heart.loc[heart['Diabetic']=='No, borderline diabetes','Diabetic']='No'\n",
    "heart.loc[heart['Diabetic']=='Yes (during pregnancy)','Diabetic']='Yes'"
   ]
  },
  {
   "cell_type": "code",
   "execution_count": 10,
   "metadata": {},
   "outputs": [
    {
     "data": {
      "text/plain": [
       "No     276434\n",
       "Yes     43361\n",
       "Name: Diabetic, dtype: int64"
      ]
     },
     "execution_count": 10,
     "metadata": {},
     "output_type": "execute_result"
    }
   ],
   "source": [
    "heart['Diabetic'].value_counts()"
   ]
  },
  {
   "cell_type": "code",
   "execution_count": 11,
   "metadata": {},
   "outputs": [
    {
     "data": {
      "image/png": "[encoded data removed]",
      "text/plain": [
       "<Figure size 1080x720 with 14 Axes>"
      ]
     },
     "metadata": {
      "needs_background": "light"
     },
     "output_type": "display_data"
    }
   ],
   "source": [
    "fig, ax = plt.subplots(3,5, figsize=(15,10))\n",
    "fig.tight_layout(pad=8.0)\n",
    "fig.delaxes(ax[2,4])\n",
    "for variable, subplot in zip(categorical, ax.flatten()):\n",
    "    sns.countplot(x=heart[variable], ax=subplot)\n",
    "    for label in subplot.get_xticklabels():\n",
    "        label.set_rotation(90)"
   ]
  },
  {
   "cell_type": "code",
   "execution_count": 12,
   "metadata": {},
   "outputs": [],
   "source": [
    "# Turn all Yes No into 1 and 0\n",
    "heart.replace(('Yes', 'No'), (1, 0), inplace=True)"
   ]
  },
  {
   "cell_type": "code",
   "execution_count": 13,
   "metadata": {},
   "outputs": [],
   "source": [
    "# Turn ordinal category into ordinal numbers - GenHealth\n",
    "categories=[['Poor','Fair','Good','Very good','Excellent']]\n",
    "ordinal_encoder = OrdinalEncoder(categories=categories)\n",
    "heart['GenHealth'] = ordinal_encoder.fit_transform(heart[['GenHealth']])"
   ]
  },
  {
   "cell_type": "code",
   "execution_count": 14,
   "metadata": {},
   "outputs": [],
   "source": [
    "# Turn ordinal category into ordinal numbers - AgeCategory\n",
    "categories=[['18-24','25-29','30-34','35-39','40-44','45-49','50-54',\n",
    "             '55-59','60-64','65-69','70-74','75-79','80 or older']]\n",
    "ordinal_encoder = OrdinalEncoder(categories=categories)\n",
    "heart['AgeCategory'] = ordinal_encoder.fit_transform(heart[['AgeCategory']])"
   ]
  },
  {
   "cell_type": "code",
   "execution_count": 15,
   "metadata": {},
   "outputs": [],
   "source": [
    "# Turn non-ordinal, non-yes/no category into counts - Sex and Race\n",
    "heart = pd.get_dummies(heart, columns = ['Sex','Race'])"
   ]
  },
  {
   "cell_type": "code",
   "execution_count": 16,
   "metadata": {},
   "outputs": [
    {
     "name": "stdout",
     "output_type": "stream",
     "text": [
      "(319795, 24)\n",
      "column names: \n",
      "\n",
      "HeartDisease\n",
      "BMI\n",
      "Smoking\n",
      "AlcoholDrinking\n",
      "Stroke\n",
      "PhysicalHealth\n",
      "MentalHealth\n",
      "DiffWalking\n",
      "AgeCategory\n",
      "Diabetic\n",
      "PhysicalActivity\n",
      "GenHealth\n",
      "SleepTime\n",
      "Asthma\n",
      "KidneyDisease\n",
      "SkinCancer\n",
      "Sex_Female\n",
      "Sex_Male\n",
      "Race_American Indian/Alaskan Native\n",
      "Race_Asian\n",
      "Race_Black\n",
      "Race_Hispanic\n",
      "Race_Other\n",
      "Race_White\n"
     ]
    }
   ],
   "source": [
    "print(heart.shape)\n",
    "print('column names: \\n')\n",
    "print('\\n'.join(list(heart.columns)))"
   ]
  },
  {
   "cell_type": "code",
   "execution_count": 17,
   "metadata": {},
   "outputs": [],
   "source": [
    "scaler=MinMaxScaler()\n",
    "heart_scaled=scaler.fit_transform(heart)"
   ]
  },
  {
   "cell_type": "code",
   "execution_count": 18,
   "metadata": {},
   "outputs": [
    {
     "data": {
      "text/html": [
       "<div>\n",
       "<style scoped>\n",
       "    .dataframe tbody tr th:only-of-type {\n",
       "        vertical-align: middle;\n",
       "    }\n",
       "\n",
       "    .dataframe tbody tr th {\n",
       "        vertical-align: top;\n",
       "    }\n",
       "\n",
       "    .dataframe thead th {\n",
       "        text-align: right;\n",
       "    }\n",
       "</style>\n",
       "<table border=\"1\" class=\"dataframe\">\n",
       "  <thead>\n",
       "    <tr style=\"text-align: right;\">\n",
       "      <th></th>\n",
       "      <th>HeartDisease</th>\n",
       "      <th>BMI</th>\n",
       "      <th>Smoking</th>\n",
       "      <th>AlcoholDrinking</th>\n",
       "      <th>Stroke</th>\n",
       "      <th>PhysicalHealth</th>\n",
       "      <th>MentalHealth</th>\n",
       "      <th>DiffWalking</th>\n",
       "      <th>AgeCategory</th>\n",
       "      <th>Diabetic</th>\n",
       "      <th>...</th>\n",
       "      <th>KidneyDisease</th>\n",
       "      <th>SkinCancer</th>\n",
       "      <th>Sex_Female</th>\n",
       "      <th>Sex_Male</th>\n",
       "      <th>Race_American Indian/Alaskan Native</th>\n",
       "      <th>Race_Asian</th>\n",
       "      <th>Race_Black</th>\n",
       "      <th>Race_Hispanic</th>\n",
       "      <th>Race_Other</th>\n",
       "      <th>Race_White</th>\n",
       "    </tr>\n",
       "  </thead>\n",
       "  <tbody>\n",
       "    <tr>\n",
       "      <th>0</th>\n",
       "      <td>0.0</td>\n",
       "      <td>0.055294</td>\n",
       "      <td>1.0</td>\n",
       "      <td>0.0</td>\n",
       "      <td>0.0</td>\n",
       "      <td>0.100000</td>\n",
       "      <td>1.0</td>\n",
       "      <td>0.0</td>\n",
       "      <td>0.583333</td>\n",
       "      <td>1.0</td>\n",
       "      <td>...</td>\n",
       "      <td>0.0</td>\n",
       "      <td>1.0</td>\n",
       "      <td>1.0</td>\n",
       "      <td>0.0</td>\n",
       "      <td>0.0</td>\n",
       "      <td>0.0</td>\n",
       "      <td>0.0</td>\n",
       "      <td>0.0</td>\n",
       "      <td>0.0</td>\n",
       "      <td>1.0</td>\n",
       "    </tr>\n",
       "    <tr>\n",
       "      <th>1</th>\n",
       "      <td>0.0</td>\n",
       "      <td>0.100447</td>\n",
       "      <td>0.0</td>\n",
       "      <td>0.0</td>\n",
       "      <td>1.0</td>\n",
       "      <td>0.000000</td>\n",
       "      <td>0.0</td>\n",
       "      <td>0.0</td>\n",
       "      <td>1.000000</td>\n",
       "      <td>0.0</td>\n",
       "      <td>...</td>\n",
       "      <td>0.0</td>\n",
       "      <td>0.0</td>\n",
       "      <td>1.0</td>\n",
       "      <td>0.0</td>\n",
       "      <td>0.0</td>\n",
       "      <td>0.0</td>\n",
       "      <td>0.0</td>\n",
       "      <td>0.0</td>\n",
       "      <td>0.0</td>\n",
       "      <td>1.0</td>\n",
       "    </tr>\n",
       "    <tr>\n",
       "      <th>2</th>\n",
       "      <td>0.0</td>\n",
       "      <td>0.175782</td>\n",
       "      <td>1.0</td>\n",
       "      <td>0.0</td>\n",
       "      <td>0.0</td>\n",
       "      <td>0.666667</td>\n",
       "      <td>1.0</td>\n",
       "      <td>0.0</td>\n",
       "      <td>0.750000</td>\n",
       "      <td>1.0</td>\n",
       "      <td>...</td>\n",
       "      <td>0.0</td>\n",
       "      <td>0.0</td>\n",
       "      <td>0.0</td>\n",
       "      <td>1.0</td>\n",
       "      <td>0.0</td>\n",
       "      <td>0.0</td>\n",
       "      <td>0.0</td>\n",
       "      <td>0.0</td>\n",
       "      <td>0.0</td>\n",
       "      <td>1.0</td>\n",
       "    </tr>\n",
       "    <tr>\n",
       "      <th>3</th>\n",
       "      <td>0.0</td>\n",
       "      <td>0.147169</td>\n",
       "      <td>0.0</td>\n",
       "      <td>0.0</td>\n",
       "      <td>0.0</td>\n",
       "      <td>0.000000</td>\n",
       "      <td>0.0</td>\n",
       "      <td>0.0</td>\n",
       "      <td>0.916667</td>\n",
       "      <td>0.0</td>\n",
       "      <td>...</td>\n",
       "      <td>0.0</td>\n",
       "      <td>1.0</td>\n",
       "      <td>1.0</td>\n",
       "      <td>0.0</td>\n",
       "      <td>0.0</td>\n",
       "      <td>0.0</td>\n",
       "      <td>0.0</td>\n",
       "      <td>0.0</td>\n",
       "      <td>0.0</td>\n",
       "      <td>1.0</td>\n",
       "    </tr>\n",
       "    <tr>\n",
       "      <th>4</th>\n",
       "      <td>0.0</td>\n",
       "      <td>0.141132</td>\n",
       "      <td>0.0</td>\n",
       "      <td>0.0</td>\n",
       "      <td>0.0</td>\n",
       "      <td>0.933333</td>\n",
       "      <td>0.0</td>\n",
       "      <td>1.0</td>\n",
       "      <td>0.333333</td>\n",
       "      <td>0.0</td>\n",
       "      <td>...</td>\n",
       "      <td>0.0</td>\n",
       "      <td>0.0</td>\n",
       "      <td>1.0</td>\n",
       "      <td>0.0</td>\n",
       "      <td>0.0</td>\n",
       "      <td>0.0</td>\n",
       "      <td>0.0</td>\n",
       "      <td>0.0</td>\n",
       "      <td>0.0</td>\n",
       "      <td>1.0</td>\n",
       "    </tr>\n",
       "  </tbody>\n",
       "</table>\n",
       "<p>5 rows × 24 columns</p>\n",
       "</div>"
      ],
      "text/plain": [
       "   HeartDisease       BMI  Smoking  AlcoholDrinking  Stroke  PhysicalHealth  \\\n",
       "0           0.0  0.055294      1.0              0.0     0.0        0.100000   \n",
       "1           0.0  0.100447      0.0              0.0     1.0        0.000000   \n",
       "2           0.0  0.175782      1.0              0.0     0.0        0.666667   \n",
       "3           0.0  0.147169      0.0              0.0     0.0        0.000000   \n",
       "4           0.0  0.141132      0.0              0.0     0.0        0.933333   \n",
       "\n",
       "   MentalHealth  DiffWalking  AgeCategory  Diabetic  ...  KidneyDisease  \\\n",
       "0           1.0          0.0     0.583333       1.0  ...            0.0   \n",
       "1           0.0          0.0     1.000000       0.0  ...            0.0   \n",
       "2           1.0          0.0     0.750000       1.0  ...            0.0   \n",
       "3           0.0          0.0     0.916667       0.0  ...            0.0   \n",
       "4           0.0          1.0     0.333333       0.0  ...            0.0   \n",
       "\n",
       "   SkinCancer  Sex_Female  Sex_Male  Race_American Indian/Alaskan Native  \\\n",
       "0         1.0         1.0       0.0                                  0.0   \n",
       "1         0.0         1.0       0.0                                  0.0   \n",
       "2         0.0         0.0       1.0                                  0.0   \n",
       "3         1.0         1.0       0.0                                  0.0   \n",
       "4         0.0         1.0       0.0                                  0.0   \n",
       "\n",
       "   Race_Asian  Race_Black  Race_Hispanic  Race_Other  Race_White  \n",
       "0         0.0         0.0            0.0         0.0         1.0  \n",
       "1         0.0         0.0            0.0         0.0         1.0  \n",
       "2         0.0         0.0            0.0         0.0         1.0  \n",
       "3         0.0         0.0            0.0         0.0         1.0  \n",
       "4         0.0         0.0            0.0         0.0         1.0  \n",
       "\n",
       "[5 rows x 24 columns]"
      ]
     },
     "execution_count": 18,
     "metadata": {},
     "output_type": "execute_result"
    }
   ],
   "source": [
    "heart_scaled=pd.DataFrame(heart_scaled)\n",
    "heart_scaled.columns=heart.columns\n",
    "heart_scaled.head()"
   ]
  },
  {
   "cell_type": "code",
   "execution_count": 19,
   "metadata": {},
   "outputs": [],
   "source": [
    "heart_scaled.to_csv('heart_scaled.csv',index=False)"
   ]
  },
  {
   "cell_type": "code",
   "execution_count": 20,
   "metadata": {},
   "outputs": [
    {
     "data": {
      "image/png": "[encoded data removed]",
      "text/plain": [
       "<Figure size 432x288 with 1 Axes>"
      ]
     },
     "metadata": {},
     "output_type": "display_data"
    }
   ],
   "source": [
    "ax=heart_scaled['HeartDisease'].value_counts().plot.pie(autopct='%.1f')\n",
    "_=ax.set_title('Heart Disease Imbalanced')"
   ]
  },
  {
   "cell_type": "code",
   "execution_count": 21,
   "metadata": {},
   "outputs": [],
   "source": [
    "X=heart_scaled.drop(['HeartDisease'],axis=1)\n",
    "y=heart_scaled['HeartDisease']"
   ]
  },
  {
   "cell_type": "code",
   "execution_count": 22,
   "metadata": {},
   "outputs": [
    {
     "data": {
      "image/png": "[encoded data removed]",
      "text/plain": [
       "<Figure size 432x288 with 1 Axes>"
      ]
     },
     "metadata": {},
     "output_type": "display_data"
    }
   ],
   "source": [
    "sm=SMOTE(random_state=0)\n",
    "X_res, y_res=sm.fit_resample(X,y)\n",
    "\n",
    "ax=y_res.value_counts().plot.pie(autopct='%.1f')\n",
    "_=ax.set_title('Over-sampling')"
   ]
  },
  {
   "cell_type": "code",
   "execution_count": 23,
   "metadata": {},
   "outputs": [
    {
     "data": {
      "text/html": [
       "<style>#sk-container-id-1 {color: black;background-color: white;}#sk-container-id-1 pre{padding: 0;}#sk-container-id-1 div.sk-toggleable {background-color: white;}#sk-container-id-1 label.sk-toggleable__label {cursor: pointer;display: block;width: 100%;margin-bottom: 0;padding: 0.3em;box-sizing: border-box;text-align: center;}#sk-container-id-1 label.sk-toggleable__label-arrow:before {content: \"▸\";float: left;margin-right: 0.25em;color: #696969;}#sk-container-id-1 label.sk-toggleable__label-arrow:hover:before {color: black;}#sk-container-id-1 div.sk-estimator:hover label.sk-toggleable__label-arrow:before {color: black;}#sk-container-id-1 div.sk-toggleable__content {max-height: 0;max-width: 0;overflow: hidden;text-align: left;background-color: #f0f8ff;}#sk-container-id-1 div.sk-toggleable__content pre {margin: 0.2em;color: black;border-radius: 0.25em;background-color: #f0f8ff;}#sk-container-id-1 input.sk-toggleable__control:checked~div.sk-toggleable__content {max-height: 200px;max-width: 100%;overflow: auto;}#sk-container-id-1 input.sk-toggleable__control:checked~label.sk-toggleable__label-arrow:before {content: \"▾\";}#sk-container-id-1 div.sk-estimator input.sk-toggleable__control:checked~label.sk-toggleable__label {background-color: #d4ebff;}#sk-container-id-1 div.sk-label input.sk-toggleable__control:checked~label.sk-toggleable__label {background-color: #d4ebff;}#sk-container-id-1 input.sk-hidden--visually {border: 0;clip: rect(1px 1px 1px 1px);clip: rect(1px, 1px, 1px, 1px);height: 1px;margin: -1px;overflow: hidden;padding: 0;position: absolute;width: 1px;}#sk-container-id-1 div.sk-estimator {font-family: monospace;background-color: #f0f8ff;border: 1px dotted black;border-radius: 0.25em;box-sizing: border-box;margin-bottom: 0.5em;}#sk-container-id-1 div.sk-estimator:hover {background-color: #d4ebff;}#sk-container-id-1 div.sk-parallel-item::after {content: \"\";width: 100%;border-bottom: 1px solid gray;flex-grow: 1;}#sk-container-id-1 div.sk-label:hover label.sk-toggleable__label {background-color: #d4ebff;}#sk-container-id-1 div.sk-serial::before {content: \"\";position: absolute;border-left: 1px solid gray;box-sizing: border-box;top: 0;bottom: 0;left: 50%;z-index: 0;}#sk-container-id-1 div.sk-serial {display: flex;flex-direction: column;align-items: center;background-color: white;padding-right: 0.2em;padding-left: 0.2em;position: relative;}#sk-container-id-1 div.sk-item {position: relative;z-index: 1;}#sk-container-id-1 div.sk-parallel {display: flex;align-items: stretch;justify-content: center;background-color: white;position: relative;}#sk-container-id-1 div.sk-item::before, #sk-container-id-1 div.sk-parallel-item::before {content: \"\";position: absolute;border-left: 1px solid gray;box-sizing: border-box;top: 0;bottom: 0;left: 50%;z-index: -1;}#sk-container-id-1 div.sk-parallel-item {display: flex;flex-direction: column;z-index: 1;position: relative;background-color: white;}#sk-container-id-1 div.sk-parallel-item:first-child::after {align-self: flex-end;width: 50%;}#sk-container-id-1 div.sk-parallel-item:last-child::after {align-self: flex-start;width: 50%;}#sk-container-id-1 div.sk-parallel-item:only-child::after {width: 0;}#sk-container-id-1 div.sk-dashed-wrapped {border: 1px dashed gray;margin: 0 0.4em 0.5em 0.4em;box-sizing: border-box;padding-bottom: 0.4em;background-color: white;}#sk-container-id-1 div.sk-label label {font-family: monospace;font-weight: bold;display: inline-block;line-height: 1.2em;}#sk-container-id-1 div.sk-label-container {text-align: center;}#sk-container-id-1 div.sk-container {/* jupyter's `normalize.less` sets `[hidden] { display: none; }` but bootstrap.min.css set `[hidden] { display: none !important; }` so we also need the `!important` here to be able to override the default hidden behavior on the sphinx rendered scikit-learn.org. See: https://github.com/scikit-learn/scikit-learn/issues/21755 */display: inline-block !important;position: relative;}#sk-container-id-1 div.sk-text-repr-fallback {display: none;}</style><div id=\"sk-container-id-1\" class=\"sk-top-container\"><div class=\"sk-text-repr-fallback\"><pre>LogisticRegression()</pre><b>In a Jupyter environment, please rerun this cell to show the HTML representation or trust the notebook. <br />On GitHub, the HTML representation is unable to render, please try loading this page with nbviewer.org.</b></div><div class=\"sk-container\" hidden><div class=\"sk-item\"><div class=\"sk-estimator sk-toggleable\"><input class=\"sk-toggleable__control sk-hidden--visually\" id=\"sk-estimator-id-1\" type=\"checkbox\" checked><label for=\"sk-estimator-id-1\" class=\"sk-toggleable__label sk-toggleable__label-arrow\">LogisticRegression</label><div class=\"sk-toggleable__content\"><pre>LogisticRegression()</pre></div></div></div></div></div>"
      ],
      "text/plain": [
       "LogisticRegression()"
      ]
     },
     "execution_count": 23,
     "metadata": {},
     "output_type": "execute_result"
    }
   ],
   "source": [
    "m=LogisticRegression()\n",
    "m.fit(X_res,y_res)"
   ]
  },
  {
   "cell_type": "code",
   "execution_count": 24,
   "metadata": {},
   "outputs": [
    {
     "name": "stderr",
     "output_type": "stream",
     "text": [
      "/opt/anaconda3/lib/python3.8/site-packages/seaborn/_decorators.py:36: FutureWarning: Pass the following variables as keyword args: x, y. From version 0.12, the only valid positional argument will be `data`, and passing other arguments without an explicit keyword will result in an error or misinterpretation.\n",
      "  warnings.warn(\n"
     ]
    },
    {
     "data": {
      "image/png": "[encoded data removed]",
      "text/plain": [
       "<Figure size 432x288 with 1 Axes>"
      ]
     },
     "metadata": {
      "needs_background": "light"
     },
     "output_type": "display_data"
    }
   ],
   "source": [
    "importance=m.coef_[0]\n",
    "ax=sns.barplot([x for x in range(len(importance))], importance)\n",
    "_=ax.set_xticklabels(m.feature_names_in_, rotation=90)"
   ]
  },
  {
   "cell_type": "code",
   "execution_count": 25,
   "metadata": {},
   "outputs": [],
   "source": [
    "X_train, X_test, y_train, y_test = train_test_split(X_res, y_res, test_size=0.3, random_state=0)"
   ]
  },
  {
   "cell_type": "code",
   "execution_count": 52,
   "metadata": {},
   "outputs": [
    {
     "name": "stdout",
     "output_type": "stream",
     "text": [
      "Best: 0.768720 using {'C': 0.1, 'penalty': 'l2', 'solver': 'liblinear'}\n",
      "0.768677 (0.002038) with: {'C': 100, 'penalty': 'l2', 'solver': 'newton-cg'}\n",
      "0.768675 (0.002040) with: {'C': 100, 'penalty': 'l2', 'solver': 'lbfgs'}\n",
      "0.768682 (0.002039) with: {'C': 100, 'penalty': 'l2', 'solver': 'liblinear'}\n",
      "0.768681 (0.002037) with: {'C': 10, 'penalty': 'l2', 'solver': 'newton-cg'}\n",
      "0.768678 (0.002032) with: {'C': 10, 'penalty': 'l2', 'solver': 'lbfgs'}\n",
      "0.768684 (0.002037) with: {'C': 10, 'penalty': 'l2', 'solver': 'liblinear'}\n",
      "0.768693 (0.002039) with: {'C': 1.0, 'penalty': 'l2', 'solver': 'newton-cg'}\n",
      "0.768688 (0.002034) with: {'C': 1.0, 'penalty': 'l2', 'solver': 'lbfgs'}\n",
      "0.768696 (0.002037) with: {'C': 1.0, 'penalty': 'l2', 'solver': 'liblinear'}\n",
      "0.768706 (0.002030) with: {'C': 0.1, 'penalty': 'l2', 'solver': 'newton-cg'}\n",
      "0.768706 (0.002036) with: {'C': 0.1, 'penalty': 'l2', 'solver': 'lbfgs'}\n",
      "0.768720 (0.002034) with: {'C': 0.1, 'penalty': 'l2', 'solver': 'liblinear'}\n",
      "0.768580 (0.002080) with: {'C': 0.01, 'penalty': 'l2', 'solver': 'newton-cg'}\n",
      "0.768583 (0.002080) with: {'C': 0.01, 'penalty': 'l2', 'solver': 'lbfgs'}\n",
      "0.768447 (0.002110) with: {'C': 0.01, 'penalty': 'l2', 'solver': 'liblinear'}\n"
     ]
    }
   ],
   "source": [
    "from sklearn.model_selection import RepeatedStratifiedKFold\n",
    "from sklearn.model_selection import GridSearchCV\n",
    "from sklearn.linear_model import LogisticRegression\n",
    "\n",
    "# define models and parameters\n",
    "model = LogisticRegression()\n",
    "solvers = ['newton-cg', 'lbfgs', 'liblinear']\n",
    "penalty = ['l2']\n",
    "c_values = [100, 10, 1.0, 0.1, 0.01]\n",
    "\n",
    "# define grid search\n",
    "grid = dict(solver=solvers,penalty=penalty,C=c_values)\n",
    "cv = RepeatedStratifiedKFold(n_splits=10, n_repeats=3, random_state=1)\n",
    "grid_search = GridSearchCV(estimator=model, param_grid=grid, n_jobs=-1, cv=cv, scoring='accuracy',error_score=0)\n",
    "grid_result = grid_search.fit(X_train, y_train)\n",
    "\n",
    "# summarize results\n",
    "print(\"Best: %f using %s\" % (grid_result.best_score_, grid_result.best_params_))\n",
    "means = grid_result.cv_results_['mean_test_score']\n",
    "stds = grid_result.cv_results_['std_test_score']\n",
    "params = grid_result.cv_results_['params']\n",
    "for mean, stdev, param in zip(means, stds, params):\n",
    "    print(\"%f (%f) with: %r\" % (mean, stdev, param))"
   ]
  },
  {
   "cell_type": "code",
   "execution_count": 29,
   "metadata": {},
   "outputs": [],
   "source": [
    "model=LogisticRegression(solver='liblinear', penalty='l2',C=0.01)\n",
    "model.fit(X_train, y_train)\n",
    "y_pred=model.predict(X_test)"
   ]
  },
  {
   "cell_type": "code",
   "execution_count": 30,
   "metadata": {},
   "outputs": [
    {
     "name": "stdout",
     "output_type": "stream",
     "text": [
      "0.7675744069670682\n"
     ]
    }
   ],
   "source": [
    "score = model.score(X_test, y_test)\n",
    "print(score)"
   ]
  },
  {
   "cell_type": "code",
   "execution_count": 31,
   "metadata": {},
   "outputs": [
    {
     "data": {
      "text/plain": [
       "<sklearn.metrics._plot.confusion_matrix.ConfusionMatrixDisplay at 0x7fbb4432ecd0>"
      ]
     },
     "execution_count": 31,
     "metadata": {},
     "output_type": "execute_result"
    },
    {
     "data": {
      "image/png": "[encoded data removed]",
      "text/plain": [
       "<Figure size 432x288 with 2 Axes>"
      ]
     },
     "metadata": {
      "needs_background": "light"
     },
     "output_type": "display_data"
    }
   ],
   "source": [
    "cm = confusion_matrix(y_test, y_pred, labels = model.classes_)\n",
    "_, ax = plt.subplots()\n",
    "disp = ConfusionMatrixDisplay(confusion_matrix = cm, display_labels = ['no heart disease', 'heart disease'])\n",
    "ax.set_xticks([0, 1])\n",
    "ax.set_yticks([0, 1])\n",
    "ax.set_xticklabels(labels = ['no heart disease', 'heart disease'], fontsize = 8)\n",
    "ax.set_yticklabels(labels = ['no heart disease', 'heart disease'], fontsize = 8)\n",
    "disp.plot(ax = ax,cmap='Blues_r')"
   ]
  },
  {
   "cell_type": "code",
   "execution_count": 32,
   "metadata": {},
   "outputs": [
    {
     "name": "stdout",
     "output_type": "stream",
     "text": [
      "              precision    recall  f1-score   support\n",
      "\n",
      "         0.0       0.78      0.75      0.76     87481\n",
      "         1.0       0.76      0.79      0.77     87973\n",
      "\n",
      "    accuracy                           0.77    175454\n",
      "   macro avg       0.77      0.77      0.77    175454\n",
      "weighted avg       0.77      0.77      0.77    175454\n",
      "\n"
     ]
    }
   ],
   "source": [
    "print(classification_report(y_test, y_pred))"
   ]
  },
  {
   "cell_type": "code",
   "execution_count": 33,
   "metadata": {},
   "outputs": [],
   "source": [
    "y_pred_proba = model.predict_proba(X_test)[::,1]\n",
    "fpr, tpr, _ = roc_curve(y_test,  y_pred_proba)\n",
    "auc = roc_auc_score(y_test, y_pred_proba)"
   ]
  },
  {
   "cell_type": "code",
   "execution_count": 34,
   "metadata": {},
   "outputs": [
    {
     "data": {
      "image/png": "[encoded data removed]",
      "text/plain": [
       "<Figure size 432x288 with 1 Axes>"
      ]
     },
     "metadata": {
      "needs_background": "light"
     },
     "output_type": "display_data"
    }
   ],
   "source": [
    "plt.plot(fpr,tpr,label=\"AUC=\"+str(auc))\n",
    "plt.ylabel('True Positive Rate')\n",
    "plt.xlabel('False Positive Rate')\n",
    "plt.legend(loc=4)\n",
    "plt.show()"
   ]
  },
  {
   "cell_type": "code",
   "execution_count": 35,
   "metadata": {},
   "outputs": [],
   "source": [
    "import pycaret"
   ]
  },
  {
   "cell_type": "code",
   "execution_count": 36,
   "metadata": {},
   "outputs": [],
   "source": [
    "df=pd.concat([X_res, y_res], axis=1)"
   ]
  },
  {
   "cell_type": "code",
   "execution_count": 37,
   "metadata": {
    "scrolled": true
   },
   "outputs": [
    {
     "data": {
      "text/html": [
       "<style type=\"text/css\">\n",
       "#T_ac76c_row8_col1 {\n",
       "  background-color: lightgreen;\n",
       "}\n",
       "</style>\n",
       "<table id=\"T_ac76c\">\n",
       "  <thead>\n",
       "    <tr>\n",
       "      <th class=\"blank level0\" >&nbsp;</th>\n",
       "      <th id=\"T_ac76c_level0_col0\" class=\"col_heading level0 col0\" >Description</th>\n",
       "      <th id=\"T_ac76c_level0_col1\" class=\"col_heading level0 col1\" >Value</th>\n",
       "    </tr>\n",
       "  </thead>\n",
       "  <tbody>\n",
       "    <tr>\n",
       "      <th id=\"T_ac76c_level0_row0\" class=\"row_heading level0 row0\" >0</th>\n",
       "      <td id=\"T_ac76c_row0_col0\" class=\"data row0 col0\" >Session id</td>\n",
       "      <td id=\"T_ac76c_row0_col1\" class=\"data row0 col1\" >123</td>\n",
       "    </tr>\n",
       "    <tr>\n",
       "      <th id=\"T_ac76c_level0_row1\" class=\"row_heading level0 row1\" >1</th>\n",
       "      <td id=\"T_ac76c_row1_col0\" class=\"data row1 col0\" >Target</td>\n",
       "      <td id=\"T_ac76c_row1_col1\" class=\"data row1 col1\" >HeartDisease</td>\n",
       "    </tr>\n",
       "    <tr>\n",
       "      <th id=\"T_ac76c_level0_row2\" class=\"row_heading level0 row2\" >2</th>\n",
       "      <td id=\"T_ac76c_row2_col0\" class=\"data row2 col0\" >Target type</td>\n",
       "      <td id=\"T_ac76c_row2_col1\" class=\"data row2 col1\" >Binary</td>\n",
       "    </tr>\n",
       "    <tr>\n",
       "      <th id=\"T_ac76c_level0_row3\" class=\"row_heading level0 row3\" >3</th>\n",
       "      <td id=\"T_ac76c_row3_col0\" class=\"data row3 col0\" >Original data shape</td>\n",
       "      <td id=\"T_ac76c_row3_col1\" class=\"data row3 col1\" >(584844, 24)</td>\n",
       "    </tr>\n",
       "    <tr>\n",
       "      <th id=\"T_ac76c_level0_row4\" class=\"row_heading level0 row4\" >4</th>\n",
       "      <td id=\"T_ac76c_row4_col0\" class=\"data row4 col0\" >Transformed data shape</td>\n",
       "      <td id=\"T_ac76c_row4_col1\" class=\"data row4 col1\" >(584844, 24)</td>\n",
       "    </tr>\n",
       "    <tr>\n",
       "      <th id=\"T_ac76c_level0_row5\" class=\"row_heading level0 row5\" >5</th>\n",
       "      <td id=\"T_ac76c_row5_col0\" class=\"data row5 col0\" >Transformed train set shape</td>\n",
       "      <td id=\"T_ac76c_row5_col1\" class=\"data row5 col1\" >(409390, 24)</td>\n",
       "    </tr>\n",
       "    <tr>\n",
       "      <th id=\"T_ac76c_level0_row6\" class=\"row_heading level0 row6\" >6</th>\n",
       "      <td id=\"T_ac76c_row6_col0\" class=\"data row6 col0\" >Transformed test set shape</td>\n",
       "      <td id=\"T_ac76c_row6_col1\" class=\"data row6 col1\" >(175454, 24)</td>\n",
       "    </tr>\n",
       "    <tr>\n",
       "      <th id=\"T_ac76c_level0_row7\" class=\"row_heading level0 row7\" >7</th>\n",
       "      <td id=\"T_ac76c_row7_col0\" class=\"data row7 col0\" >Numeric features</td>\n",
       "      <td id=\"T_ac76c_row7_col1\" class=\"data row7 col1\" >23</td>\n",
       "    </tr>\n",
       "    <tr>\n",
       "      <th id=\"T_ac76c_level0_row8\" class=\"row_heading level0 row8\" >8</th>\n",
       "      <td id=\"T_ac76c_row8_col0\" class=\"data row8 col0\" >Preprocess</td>\n",
       "      <td id=\"T_ac76c_row8_col1\" class=\"data row8 col1\" >True</td>\n",
       "    </tr>\n",
       "    <tr>\n",
       "      <th id=\"T_ac76c_level0_row9\" class=\"row_heading level0 row9\" >9</th>\n",
       "      <td id=\"T_ac76c_row9_col0\" class=\"data row9 col0\" >Imputation type</td>\n",
       "      <td id=\"T_ac76c_row9_col1\" class=\"data row9 col1\" >simple</td>\n",
       "    </tr>\n",
       "    <tr>\n",
       "      <th id=\"T_ac76c_level0_row10\" class=\"row_heading level0 row10\" >10</th>\n",
       "      <td id=\"T_ac76c_row10_col0\" class=\"data row10 col0\" >Numeric imputation</td>\n",
       "      <td id=\"T_ac76c_row10_col1\" class=\"data row10 col1\" >mean</td>\n",
       "    </tr>\n",
       "    <tr>\n",
       "      <th id=\"T_ac76c_level0_row11\" class=\"row_heading level0 row11\" >11</th>\n",
       "      <td id=\"T_ac76c_row11_col0\" class=\"data row11 col0\" >Categorical imputation</td>\n",
       "      <td id=\"T_ac76c_row11_col1\" class=\"data row11 col1\" >mode</td>\n",
       "    </tr>\n",
       "    <tr>\n",
       "      <th id=\"T_ac76c_level0_row12\" class=\"row_heading level0 row12\" >12</th>\n",
       "      <td id=\"T_ac76c_row12_col0\" class=\"data row12 col0\" >Fold Generator</td>\n",
       "      <td id=\"T_ac76c_row12_col1\" class=\"data row12 col1\" >StratifiedKFold</td>\n",
       "    </tr>\n",
       "    <tr>\n",
       "      <th id=\"T_ac76c_level0_row13\" class=\"row_heading level0 row13\" >13</th>\n",
       "      <td id=\"T_ac76c_row13_col0\" class=\"data row13 col0\" >Fold Number</td>\n",
       "      <td id=\"T_ac76c_row13_col1\" class=\"data row13 col1\" >10</td>\n",
       "    </tr>\n",
       "    <tr>\n",
       "      <th id=\"T_ac76c_level0_row14\" class=\"row_heading level0 row14\" >14</th>\n",
       "      <td id=\"T_ac76c_row14_col0\" class=\"data row14 col0\" >CPU Jobs</td>\n",
       "      <td id=\"T_ac76c_row14_col1\" class=\"data row14 col1\" >-1</td>\n",
       "    </tr>\n",
       "    <tr>\n",
       "      <th id=\"T_ac76c_level0_row15\" class=\"row_heading level0 row15\" >15</th>\n",
       "      <td id=\"T_ac76c_row15_col0\" class=\"data row15 col0\" >Use GPU</td>\n",
       "      <td id=\"T_ac76c_row15_col1\" class=\"data row15 col1\" >False</td>\n",
       "    </tr>\n",
       "    <tr>\n",
       "      <th id=\"T_ac76c_level0_row16\" class=\"row_heading level0 row16\" >16</th>\n",
       "      <td id=\"T_ac76c_row16_col0\" class=\"data row16 col0\" >Log Experiment</td>\n",
       "      <td id=\"T_ac76c_row16_col1\" class=\"data row16 col1\" >False</td>\n",
       "    </tr>\n",
       "    <tr>\n",
       "      <th id=\"T_ac76c_level0_row17\" class=\"row_heading level0 row17\" >17</th>\n",
       "      <td id=\"T_ac76c_row17_col0\" class=\"data row17 col0\" >Experiment Name</td>\n",
       "      <td id=\"T_ac76c_row17_col1\" class=\"data row17 col1\" >clf-default-name</td>\n",
       "    </tr>\n",
       "    <tr>\n",
       "      <th id=\"T_ac76c_level0_row18\" class=\"row_heading level0 row18\" >18</th>\n",
       "      <td id=\"T_ac76c_row18_col0\" class=\"data row18 col0\" >USI</td>\n",
       "      <td id=\"T_ac76c_row18_col1\" class=\"data row18 col1\" >cc0f</td>\n",
       "    </tr>\n",
       "  </tbody>\n",
       "</table>\n"
      ],
      "text/plain": [
       "<pandas.io.formats.style.Styler at 0x7fbaf8608dc0>"
      ]
     },
     "metadata": {},
     "output_type": "display_data"
    }
   ],
   "source": [
    "# import pycaret classification and init setup\n",
    "\n",
    "from pycaret.classification import *\n",
    "s = setup(df, target = 'HeartDisease', session_id = 123)"
   ]
  },
  {
   "cell_type": "code",
   "execution_count": 38,
   "metadata": {},
   "outputs": [],
   "source": [
    "# import ClassificationExperiment and init the class\n",
    "from pycaret.classification import ClassificationExperiment\n",
    "exp = ClassificationExperiment()"
   ]
  },
  {
   "cell_type": "code",
   "execution_count": 39,
   "metadata": {},
   "outputs": [
    {
     "data": {
      "text/plain": [
       "pycaret.classification.oop.ClassificationExperiment"
      ]
     },
     "execution_count": 39,
     "metadata": {},
     "output_type": "execute_result"
    }
   ],
   "source": [
    "# check the type of exp\n",
    "type(exp)"
   ]
  },
  {
   "cell_type": "code",
   "execution_count": 40,
   "metadata": {},
   "outputs": [
    {
     "data": {
      "text/html": [
       "<style type=\"text/css\">\n",
       "#T_e1771_row8_col1 {\n",
       "  background-color: lightgreen;\n",
       "}\n",
       "</style>\n",
       "<table id=\"T_e1771\">\n",
       "  <thead>\n",
       "    <tr>\n",
       "      <th class=\"blank level0\" >&nbsp;</th>\n",
       "      <th id=\"T_e1771_level0_col0\" class=\"col_heading level0 col0\" >Description</th>\n",
       "      <th id=\"T_e1771_level0_col1\" class=\"col_heading level0 col1\" >Value</th>\n",
       "    </tr>\n",
       "  </thead>\n",
       "  <tbody>\n",
       "    <tr>\n",
       "      <th id=\"T_e1771_level0_row0\" class=\"row_heading level0 row0\" >0</th>\n",
       "      <td id=\"T_e1771_row0_col0\" class=\"data row0 col0\" >Session id</td>\n",
       "      <td id=\"T_e1771_row0_col1\" class=\"data row0 col1\" >123</td>\n",
       "    </tr>\n",
       "    <tr>\n",
       "      <th id=\"T_e1771_level0_row1\" class=\"row_heading level0 row1\" >1</th>\n",
       "      <td id=\"T_e1771_row1_col0\" class=\"data row1 col0\" >Target</td>\n",
       "      <td id=\"T_e1771_row1_col1\" class=\"data row1 col1\" >HeartDisease</td>\n",
       "    </tr>\n",
       "    <tr>\n",
       "      <th id=\"T_e1771_level0_row2\" class=\"row_heading level0 row2\" >2</th>\n",
       "      <td id=\"T_e1771_row2_col0\" class=\"data row2 col0\" >Target type</td>\n",
       "      <td id=\"T_e1771_row2_col1\" class=\"data row2 col1\" >Binary</td>\n",
       "    </tr>\n",
       "    <tr>\n",
       "      <th id=\"T_e1771_level0_row3\" class=\"row_heading level0 row3\" >3</th>\n",
       "      <td id=\"T_e1771_row3_col0\" class=\"data row3 col0\" >Original data shape</td>\n",
       "      <td id=\"T_e1771_row3_col1\" class=\"data row3 col1\" >(584844, 24)</td>\n",
       "    </tr>\n",
       "    <tr>\n",
       "      <th id=\"T_e1771_level0_row4\" class=\"row_heading level0 row4\" >4</th>\n",
       "      <td id=\"T_e1771_row4_col0\" class=\"data row4 col0\" >Transformed data shape</td>\n",
       "      <td id=\"T_e1771_row4_col1\" class=\"data row4 col1\" >(584844, 24)</td>\n",
       "    </tr>\n",
       "    <tr>\n",
       "      <th id=\"T_e1771_level0_row5\" class=\"row_heading level0 row5\" >5</th>\n",
       "      <td id=\"T_e1771_row5_col0\" class=\"data row5 col0\" >Transformed train set shape</td>\n",
       "      <td id=\"T_e1771_row5_col1\" class=\"data row5 col1\" >(409390, 24)</td>\n",
       "    </tr>\n",
       "    <tr>\n",
       "      <th id=\"T_e1771_level0_row6\" class=\"row_heading level0 row6\" >6</th>\n",
       "      <td id=\"T_e1771_row6_col0\" class=\"data row6 col0\" >Transformed test set shape</td>\n",
       "      <td id=\"T_e1771_row6_col1\" class=\"data row6 col1\" >(175454, 24)</td>\n",
       "    </tr>\n",
       "    <tr>\n",
       "      <th id=\"T_e1771_level0_row7\" class=\"row_heading level0 row7\" >7</th>\n",
       "      <td id=\"T_e1771_row7_col0\" class=\"data row7 col0\" >Numeric features</td>\n",
       "      <td id=\"T_e1771_row7_col1\" class=\"data row7 col1\" >23</td>\n",
       "    </tr>\n",
       "    <tr>\n",
       "      <th id=\"T_e1771_level0_row8\" class=\"row_heading level0 row8\" >8</th>\n",
       "      <td id=\"T_e1771_row8_col0\" class=\"data row8 col0\" >Preprocess</td>\n",
       "      <td id=\"T_e1771_row8_col1\" class=\"data row8 col1\" >True</td>\n",
       "    </tr>\n",
       "    <tr>\n",
       "      <th id=\"T_e1771_level0_row9\" class=\"row_heading level0 row9\" >9</th>\n",
       "      <td id=\"T_e1771_row9_col0\" class=\"data row9 col0\" >Imputation type</td>\n",
       "      <td id=\"T_e1771_row9_col1\" class=\"data row9 col1\" >simple</td>\n",
       "    </tr>\n",
       "    <tr>\n",
       "      <th id=\"T_e1771_level0_row10\" class=\"row_heading level0 row10\" >10</th>\n",
       "      <td id=\"T_e1771_row10_col0\" class=\"data row10 col0\" >Numeric imputation</td>\n",
       "      <td id=\"T_e1771_row10_col1\" class=\"data row10 col1\" >mean</td>\n",
       "    </tr>\n",
       "    <tr>\n",
       "      <th id=\"T_e1771_level0_row11\" class=\"row_heading level0 row11\" >11</th>\n",
       "      <td id=\"T_e1771_row11_col0\" class=\"data row11 col0\" >Categorical imputation</td>\n",
       "      <td id=\"T_e1771_row11_col1\" class=\"data row11 col1\" >mode</td>\n",
       "    </tr>\n",
       "    <tr>\n",
       "      <th id=\"T_e1771_level0_row12\" class=\"row_heading level0 row12\" >12</th>\n",
       "      <td id=\"T_e1771_row12_col0\" class=\"data row12 col0\" >Fold Generator</td>\n",
       "      <td id=\"T_e1771_row12_col1\" class=\"data row12 col1\" >StratifiedKFold</td>\n",
       "    </tr>\n",
       "    <tr>\n",
       "      <th id=\"T_e1771_level0_row13\" class=\"row_heading level0 row13\" >13</th>\n",
       "      <td id=\"T_e1771_row13_col0\" class=\"data row13 col0\" >Fold Number</td>\n",
       "      <td id=\"T_e1771_row13_col1\" class=\"data row13 col1\" >10</td>\n",
       "    </tr>\n",
       "    <tr>\n",
       "      <th id=\"T_e1771_level0_row14\" class=\"row_heading level0 row14\" >14</th>\n",
       "      <td id=\"T_e1771_row14_col0\" class=\"data row14 col0\" >CPU Jobs</td>\n",
       "      <td id=\"T_e1771_row14_col1\" class=\"data row14 col1\" >-1</td>\n",
       "    </tr>\n",
       "    <tr>\n",
       "      <th id=\"T_e1771_level0_row15\" class=\"row_heading level0 row15\" >15</th>\n",
       "      <td id=\"T_e1771_row15_col0\" class=\"data row15 col0\" >Use GPU</td>\n",
       "      <td id=\"T_e1771_row15_col1\" class=\"data row15 col1\" >False</td>\n",
       "    </tr>\n",
       "    <tr>\n",
       "      <th id=\"T_e1771_level0_row16\" class=\"row_heading level0 row16\" >16</th>\n",
       "      <td id=\"T_e1771_row16_col0\" class=\"data row16 col0\" >Log Experiment</td>\n",
       "      <td id=\"T_e1771_row16_col1\" class=\"data row16 col1\" >False</td>\n",
       "    </tr>\n",
       "    <tr>\n",
       "      <th id=\"T_e1771_level0_row17\" class=\"row_heading level0 row17\" >17</th>\n",
       "      <td id=\"T_e1771_row17_col0\" class=\"data row17 col0\" >Experiment Name</td>\n",
       "      <td id=\"T_e1771_row17_col1\" class=\"data row17 col1\" >clf-default-name</td>\n",
       "    </tr>\n",
       "    <tr>\n",
       "      <th id=\"T_e1771_level0_row18\" class=\"row_heading level0 row18\" >18</th>\n",
       "      <td id=\"T_e1771_row18_col0\" class=\"data row18 col0\" >USI</td>\n",
       "      <td id=\"T_e1771_row18_col1\" class=\"data row18 col1\" >54f4</td>\n",
       "    </tr>\n",
       "  </tbody>\n",
       "</table>\n"
      ],
      "text/plain": [
       "<pandas.io.formats.style.Styler at 0x7fbaf1ce7e20>"
      ]
     },
     "metadata": {},
     "output_type": "display_data"
    },
    {
     "data": {
      "text/plain": [
       "<pycaret.classification.oop.ClassificationExperiment at 0x7fbaf5da5250>"
      ]
     },
     "execution_count": 40,
     "metadata": {},
     "output_type": "execute_result"
    }
   ],
   "source": [
    "# init setup on exp\n",
    "exp.setup(df, target = 'HeartDisease', session_id = 123)"
   ]
  },
  {
   "cell_type": "code",
   "execution_count": 41,
   "metadata": {
    "scrolled": true
   },
   "outputs": [
    {
     "data": {
      "text/html": [],
      "text/plain": [
       "<IPython.core.display.HTML object>"
      ]
     },
     "metadata": {},
     "output_type": "display_data"
    },
    {
     "data": {
      "text/html": [
       "<style type=\"text/css\">\n",
       "#T_68252 th {\n",
       "  text-align: left;\n",
       "}\n",
       "#T_68252_row0_col0, #T_68252_row0_col2, #T_68252_row0_col3, #T_68252_row0_col4, #T_68252_row1_col0, #T_68252_row1_col1, #T_68252_row1_col3, #T_68252_row1_col5, #T_68252_row1_col6, #T_68252_row1_col7, #T_68252_row2_col0, #T_68252_row2_col1, #T_68252_row2_col2, #T_68252_row2_col4, #T_68252_row2_col5, #T_68252_row2_col6, #T_68252_row2_col7, #T_68252_row3_col0, #T_68252_row3_col1, #T_68252_row3_col2, #T_68252_row3_col3, #T_68252_row3_col4, #T_68252_row3_col5, #T_68252_row3_col6, #T_68252_row3_col7, #T_68252_row4_col0, #T_68252_row4_col1, #T_68252_row4_col2, #T_68252_row4_col3, #T_68252_row4_col4, #T_68252_row4_col5, #T_68252_row4_col6, #T_68252_row4_col7, #T_68252_row5_col0, #T_68252_row5_col1, #T_68252_row5_col2, #T_68252_row5_col3, #T_68252_row5_col4, #T_68252_row5_col5, #T_68252_row5_col6, #T_68252_row5_col7, #T_68252_row6_col0, #T_68252_row6_col1, #T_68252_row6_col2, #T_68252_row6_col3, #T_68252_row6_col4, #T_68252_row6_col5, #T_68252_row6_col6, #T_68252_row6_col7, #T_68252_row7_col0, #T_68252_row7_col1, #T_68252_row7_col2, #T_68252_row7_col3, #T_68252_row7_col4, #T_68252_row7_col5, #T_68252_row7_col6, #T_68252_row7_col7, #T_68252_row8_col0, #T_68252_row8_col1, #T_68252_row8_col2, #T_68252_row8_col3, #T_68252_row8_col4, #T_68252_row8_col5, #T_68252_row8_col6, #T_68252_row8_col7, #T_68252_row9_col0, #T_68252_row9_col1, #T_68252_row9_col2, #T_68252_row9_col3, #T_68252_row9_col4, #T_68252_row9_col5, #T_68252_row9_col6, #T_68252_row9_col7, #T_68252_row10_col0, #T_68252_row10_col1, #T_68252_row10_col2, #T_68252_row10_col3, #T_68252_row10_col4, #T_68252_row10_col5, #T_68252_row10_col6, #T_68252_row10_col7, #T_68252_row11_col0, #T_68252_row11_col1, #T_68252_row11_col2, #T_68252_row11_col3, #T_68252_row11_col4, #T_68252_row11_col5, #T_68252_row11_col6, #T_68252_row11_col7, #T_68252_row12_col0, #T_68252_row12_col1, #T_68252_row12_col2, #T_68252_row12_col3, #T_68252_row12_col4, #T_68252_row12_col5, #T_68252_row12_col6, #T_68252_row12_col7, #T_68252_row13_col0, #T_68252_row13_col1, #T_68252_row13_col2, #T_68252_row13_col3, #T_68252_row13_col4, #T_68252_row13_col5, #T_68252_row13_col6, #T_68252_row13_col7, #T_68252_row14_col0, #T_68252_row14_col1, #T_68252_row14_col2, #T_68252_row14_col3, #T_68252_row14_col4, #T_68252_row14_col5, #T_68252_row14_col6, #T_68252_row14_col7 {\n",
       "  text-align: left;\n",
       "}\n",
       "#T_68252_row0_col1, #T_68252_row0_col5, #T_68252_row0_col6, #T_68252_row0_col7, #T_68252_row1_col2, #T_68252_row1_col4, #T_68252_row2_col3 {\n",
       "  text-align: left;\n",
       "  background-color: yellow;\n",
       "}\n",
       "#T_68252_row0_col8, #T_68252_row1_col8, #T_68252_row2_col8, #T_68252_row3_col8, #T_68252_row4_col8, #T_68252_row5_col8, #T_68252_row6_col8, #T_68252_row7_col8, #T_68252_row8_col8, #T_68252_row9_col8, #T_68252_row10_col8, #T_68252_row11_col8, #T_68252_row12_col8, #T_68252_row13_col8 {\n",
       "  text-align: left;\n",
       "  background-color: lightgrey;\n",
       "}\n",
       "#T_68252_row14_col8 {\n",
       "  text-align: left;\n",
       "  background-color: yellow;\n",
       "  background-color: lightgrey;\n",
       "}\n",
       "</style>\n",
       "<table id=\"T_68252\">\n",
       "  <thead>\n",
       "    <tr>\n",
       "      <th class=\"blank level0\" >&nbsp;</th>\n",
       "      <th id=\"T_68252_level0_col0\" class=\"col_heading level0 col0\" >Model</th>\n",
       "      <th id=\"T_68252_level0_col1\" class=\"col_heading level0 col1\" >Accuracy</th>\n",
       "      <th id=\"T_68252_level0_col2\" class=\"col_heading level0 col2\" >AUC</th>\n",
       "      <th id=\"T_68252_level0_col3\" class=\"col_heading level0 col3\" >Recall</th>\n",
       "      <th id=\"T_68252_level0_col4\" class=\"col_heading level0 col4\" >Prec.</th>\n",
       "      <th id=\"T_68252_level0_col5\" class=\"col_heading level0 col5\" >F1</th>\n",
       "      <th id=\"T_68252_level0_col6\" class=\"col_heading level0 col6\" >Kappa</th>\n",
       "      <th id=\"T_68252_level0_col7\" class=\"col_heading level0 col7\" >MCC</th>\n",
       "      <th id=\"T_68252_level0_col8\" class=\"col_heading level0 col8\" >TT (Sec)</th>\n",
       "    </tr>\n",
       "  </thead>\n",
       "  <tbody>\n",
       "    <tr>\n",
       "      <th id=\"T_68252_level0_row0\" class=\"row_heading level0 row0\" >rf</th>\n",
       "      <td id=\"T_68252_row0_col0\" class=\"data row0 col0\" >Random Forest Classifier</td>\n",
       "      <td id=\"T_68252_row0_col1\" class=\"data row0 col1\" >0.9226</td>\n",
       "      <td id=\"T_68252_row0_col2\" class=\"data row0 col2\" >0.9713</td>\n",
       "      <td id=\"T_68252_row0_col3\" class=\"data row0 col3\" >0.9224</td>\n",
       "      <td id=\"T_68252_row0_col4\" class=\"data row0 col4\" >0.9228</td>\n",
       "      <td id=\"T_68252_row0_col5\" class=\"data row0 col5\" >0.9226</td>\n",
       "      <td id=\"T_68252_row0_col6\" class=\"data row0 col6\" >0.8452</td>\n",
       "      <td id=\"T_68252_row0_col7\" class=\"data row0 col7\" >0.8452</td>\n",
       "      <td id=\"T_68252_row0_col8\" class=\"data row0 col8\" >33.1650</td>\n",
       "    </tr>\n",
       "    <tr>\n",
       "      <th id=\"T_68252_level0_row1\" class=\"row_heading level0 row1\" >catboost</th>\n",
       "      <td id=\"T_68252_row1_col0\" class=\"data row1 col0\" >CatBoost Classifier</td>\n",
       "      <td id=\"T_68252_row1_col1\" class=\"data row1 col1\" >0.9183</td>\n",
       "      <td id=\"T_68252_row1_col2\" class=\"data row1 col2\" >0.9751</td>\n",
       "      <td id=\"T_68252_row1_col3\" class=\"data row1 col3\" >0.8859</td>\n",
       "      <td id=\"T_68252_row1_col4\" class=\"data row1 col4\" >0.9474</td>\n",
       "      <td id=\"T_68252_row1_col5\" class=\"data row1 col5\" >0.9156</td>\n",
       "      <td id=\"T_68252_row1_col6\" class=\"data row1 col6\" >0.8367</td>\n",
       "      <td id=\"T_68252_row1_col7\" class=\"data row1 col7\" >0.8384</td>\n",
       "      <td id=\"T_68252_row1_col8\" class=\"data row1 col8\" >42.0470</td>\n",
       "    </tr>\n",
       "    <tr>\n",
       "      <th id=\"T_68252_level0_row2\" class=\"row_heading level0 row2\" >et</th>\n",
       "      <td id=\"T_68252_row2_col0\" class=\"data row2 col0\" >Extra Trees Classifier</td>\n",
       "      <td id=\"T_68252_row2_col1\" class=\"data row2 col1\" >0.9166</td>\n",
       "      <td id=\"T_68252_row2_col2\" class=\"data row2 col2\" >0.9584</td>\n",
       "      <td id=\"T_68252_row2_col3\" class=\"data row2 col3\" >0.9331</td>\n",
       "      <td id=\"T_68252_row2_col4\" class=\"data row2 col4\" >0.9032</td>\n",
       "      <td id=\"T_68252_row2_col5\" class=\"data row2 col5\" >0.9179</td>\n",
       "      <td id=\"T_68252_row2_col6\" class=\"data row2 col6\" >0.8331</td>\n",
       "      <td id=\"T_68252_row2_col7\" class=\"data row2 col7\" >0.8336</td>\n",
       "      <td id=\"T_68252_row2_col8\" class=\"data row2 col8\" >35.1840</td>\n",
       "    </tr>\n",
       "    <tr>\n",
       "      <th id=\"T_68252_level0_row3\" class=\"row_heading level0 row3\" >lightgbm</th>\n",
       "      <td id=\"T_68252_row3_col0\" class=\"data row3 col0\" >Light Gradient Boosting Machine</td>\n",
       "      <td id=\"T_68252_row3_col1\" class=\"data row3 col1\" >0.9092</td>\n",
       "      <td id=\"T_68252_row3_col2\" class=\"data row3 col2\" >0.9713</td>\n",
       "      <td id=\"T_68252_row3_col3\" class=\"data row3 col3\" >0.8792</td>\n",
       "      <td id=\"T_68252_row3_col4\" class=\"data row3 col4\" >0.9353</td>\n",
       "      <td id=\"T_68252_row3_col5\" class=\"data row3 col5\" >0.9064</td>\n",
       "      <td id=\"T_68252_row3_col6\" class=\"data row3 col6\" >0.8184</td>\n",
       "      <td id=\"T_68252_row3_col7\" class=\"data row3 col7\" >0.8199</td>\n",
       "      <td id=\"T_68252_row3_col8\" class=\"data row3 col8\" >2.9780</td>\n",
       "    </tr>\n",
       "    <tr>\n",
       "      <th id=\"T_68252_level0_row4\" class=\"row_heading level0 row4\" >dt</th>\n",
       "      <td id=\"T_68252_row4_col0\" class=\"data row4 col0\" >Decision Tree Classifier</td>\n",
       "      <td id=\"T_68252_row4_col1\" class=\"data row4 col1\" >0.8928</td>\n",
       "      <td id=\"T_68252_row4_col2\" class=\"data row4 col2\" >0.8935</td>\n",
       "      <td id=\"T_68252_row4_col3\" class=\"data row4 col3\" >0.8941</td>\n",
       "      <td id=\"T_68252_row4_col4\" class=\"data row4 col4\" >0.8919</td>\n",
       "      <td id=\"T_68252_row4_col5\" class=\"data row4 col5\" >0.8930</td>\n",
       "      <td id=\"T_68252_row4_col6\" class=\"data row4 col6\" >0.7857</td>\n",
       "      <td id=\"T_68252_row4_col7\" class=\"data row4 col7\" >0.7857</td>\n",
       "      <td id=\"T_68252_row4_col8\" class=\"data row4 col8\" >1.2780</td>\n",
       "    </tr>\n",
       "    <tr>\n",
       "      <th id=\"T_68252_level0_row5\" class=\"row_heading level0 row5\" >gbc</th>\n",
       "      <td id=\"T_68252_row5_col0\" class=\"data row5 col0\" >Gradient Boosting Classifier</td>\n",
       "      <td id=\"T_68252_row5_col1\" class=\"data row5 col1\" >0.8724</td>\n",
       "      <td id=\"T_68252_row5_col2\" class=\"data row5 col2\" >0.9530</td>\n",
       "      <td id=\"T_68252_row5_col3\" class=\"data row5 col3\" >0.8701</td>\n",
       "      <td id=\"T_68252_row5_col4\" class=\"data row5 col4\" >0.8741</td>\n",
       "      <td id=\"T_68252_row5_col5\" class=\"data row5 col5\" >0.8721</td>\n",
       "      <td id=\"T_68252_row5_col6\" class=\"data row5 col6\" >0.7448</td>\n",
       "      <td id=\"T_68252_row5_col7\" class=\"data row5 col7\" >0.7448</td>\n",
       "      <td id=\"T_68252_row5_col8\" class=\"data row5 col8\" >25.8750</td>\n",
       "    </tr>\n",
       "    <tr>\n",
       "      <th id=\"T_68252_level0_row6\" class=\"row_heading level0 row6\" >knn</th>\n",
       "      <td id=\"T_68252_row6_col0\" class=\"data row6 col0\" >K Neighbors Classifier</td>\n",
       "      <td id=\"T_68252_row6_col1\" class=\"data row6 col1\" >0.8514</td>\n",
       "      <td id=\"T_68252_row6_col2\" class=\"data row6 col2\" >0.9196</td>\n",
       "      <td id=\"T_68252_row6_col3\" class=\"data row6 col3\" >0.9285</td>\n",
       "      <td id=\"T_68252_row6_col4\" class=\"data row6 col4\" >0.8045</td>\n",
       "      <td id=\"T_68252_row6_col5\" class=\"data row6 col5\" >0.8620</td>\n",
       "      <td id=\"T_68252_row6_col6\" class=\"data row6 col6\" >0.7028</td>\n",
       "      <td id=\"T_68252_row6_col7\" class=\"data row6 col7\" >0.7113</td>\n",
       "      <td id=\"T_68252_row6_col8\" class=\"data row6 col8\" >62.8690</td>\n",
       "    </tr>\n",
       "    <tr>\n",
       "      <th id=\"T_68252_level0_row7\" class=\"row_heading level0 row7\" >ada</th>\n",
       "      <td id=\"T_68252_row7_col0\" class=\"data row7 col0\" >Ada Boost Classifier</td>\n",
       "      <td id=\"T_68252_row7_col1\" class=\"data row7 col1\" >0.8354</td>\n",
       "      <td id=\"T_68252_row7_col2\" class=\"data row7 col2\" >0.9233</td>\n",
       "      <td id=\"T_68252_row7_col3\" class=\"data row7 col3\" >0.8413</td>\n",
       "      <td id=\"T_68252_row7_col4\" class=\"data row7 col4\" >0.8315</td>\n",
       "      <td id=\"T_68252_row7_col5\" class=\"data row7 col5\" >0.8364</td>\n",
       "      <td id=\"T_68252_row7_col6\" class=\"data row7 col6\" >0.6708</td>\n",
       "      <td id=\"T_68252_row7_col7\" class=\"data row7 col7\" >0.6709</td>\n",
       "      <td id=\"T_68252_row7_col8\" class=\"data row7 col8\" >7.0140</td>\n",
       "    </tr>\n",
       "    <tr>\n",
       "      <th id=\"T_68252_level0_row8\" class=\"row_heading level0 row8\" >ridge</th>\n",
       "      <td id=\"T_68252_row8_col0\" class=\"data row8 col0\" >Ridge Classifier</td>\n",
       "      <td id=\"T_68252_row8_col1\" class=\"data row8 col1\" >0.7687</td>\n",
       "      <td id=\"T_68252_row8_col2\" class=\"data row8 col2\" >0.0000</td>\n",
       "      <td id=\"T_68252_row8_col3\" class=\"data row8 col3\" >0.8031</td>\n",
       "      <td id=\"T_68252_row8_col4\" class=\"data row8 col4\" >0.7515</td>\n",
       "      <td id=\"T_68252_row8_col5\" class=\"data row8 col5\" >0.7764</td>\n",
       "      <td id=\"T_68252_row8_col6\" class=\"data row8 col6\" >0.5375</td>\n",
       "      <td id=\"T_68252_row8_col7\" class=\"data row8 col7\" >0.5388</td>\n",
       "      <td id=\"T_68252_row8_col8\" class=\"data row8 col8\" >0.2830</td>\n",
       "    </tr>\n",
       "    <tr>\n",
       "      <th id=\"T_68252_level0_row9\" class=\"row_heading level0 row9\" >lda</th>\n",
       "      <td id=\"T_68252_row9_col0\" class=\"data row9 col0\" >Linear Discriminant Analysis</td>\n",
       "      <td id=\"T_68252_row9_col1\" class=\"data row9 col1\" >0.7687</td>\n",
       "      <td id=\"T_68252_row9_col2\" class=\"data row9 col2\" >0.8441</td>\n",
       "      <td id=\"T_68252_row9_col3\" class=\"data row9 col3\" >0.8031</td>\n",
       "      <td id=\"T_68252_row9_col4\" class=\"data row9 col4\" >0.7515</td>\n",
       "      <td id=\"T_68252_row9_col5\" class=\"data row9 col5\" >0.7764</td>\n",
       "      <td id=\"T_68252_row9_col6\" class=\"data row9 col6\" >0.5375</td>\n",
       "      <td id=\"T_68252_row9_col7\" class=\"data row9 col7\" >0.5388</td>\n",
       "      <td id=\"T_68252_row9_col8\" class=\"data row9 col8\" >1.2320</td>\n",
       "    </tr>\n",
       "    <tr>\n",
       "      <th id=\"T_68252_level0_row10\" class=\"row_heading level0 row10\" >svm</th>\n",
       "      <td id=\"T_68252_row10_col0\" class=\"data row10 col0\" >SVM - Linear Kernel</td>\n",
       "      <td id=\"T_68252_row10_col1\" class=\"data row10 col1\" >0.7683</td>\n",
       "      <td id=\"T_68252_row10_col2\" class=\"data row10 col2\" >0.0000</td>\n",
       "      <td id=\"T_68252_row10_col3\" class=\"data row10 col3\" >0.8233</td>\n",
       "      <td id=\"T_68252_row10_col4\" class=\"data row10 col4\" >0.7419</td>\n",
       "      <td id=\"T_68252_row10_col5\" class=\"data row10 col5\" >0.7803</td>\n",
       "      <td id=\"T_68252_row10_col6\" class=\"data row10 col6\" >0.5366</td>\n",
       "      <td id=\"T_68252_row10_col7\" class=\"data row10 col7\" >0.5402</td>\n",
       "      <td id=\"T_68252_row10_col8\" class=\"data row10 col8\" >0.5510</td>\n",
       "    </tr>\n",
       "    <tr>\n",
       "      <th id=\"T_68252_level0_row11\" class=\"row_heading level0 row11\" >lr</th>\n",
       "      <td id=\"T_68252_row11_col0\" class=\"data row11 col0\" >Logistic Regression</td>\n",
       "      <td id=\"T_68252_row11_col1\" class=\"data row11 col1\" >0.7681</td>\n",
       "      <td id=\"T_68252_row11_col2\" class=\"data row11 col2\" >0.8444</td>\n",
       "      <td id=\"T_68252_row11_col3\" class=\"data row11 col3\" >0.7910</td>\n",
       "      <td id=\"T_68252_row11_col4\" class=\"data row11 col4\" >0.7564</td>\n",
       "      <td id=\"T_68252_row11_col5\" class=\"data row11 col5\" >0.7733</td>\n",
       "      <td id=\"T_68252_row11_col6\" class=\"data row11 col6\" >0.5362</td>\n",
       "      <td id=\"T_68252_row11_col7\" class=\"data row11 col7\" >0.5368</td>\n",
       "      <td id=\"T_68252_row11_col8\" class=\"data row11 col8\" >2.3500</td>\n",
       "    </tr>\n",
       "    <tr>\n",
       "      <th id=\"T_68252_level0_row12\" class=\"row_heading level0 row12\" >nb</th>\n",
       "      <td id=\"T_68252_row12_col0\" class=\"data row12 col0\" >Naive Bayes</td>\n",
       "      <td id=\"T_68252_row12_col1\" class=\"data row12 col1\" >0.7224</td>\n",
       "      <td id=\"T_68252_row12_col2\" class=\"data row12 col2\" >0.8034</td>\n",
       "      <td id=\"T_68252_row12_col3\" class=\"data row12 col3\" >0.6626</td>\n",
       "      <td id=\"T_68252_row12_col4\" class=\"data row12 col4\" >0.7527</td>\n",
       "      <td id=\"T_68252_row12_col5\" class=\"data row12 col5\" >0.7048</td>\n",
       "      <td id=\"T_68252_row12_col6\" class=\"data row12 col6\" >0.4449</td>\n",
       "      <td id=\"T_68252_row12_col7\" class=\"data row12 col7\" >0.4481</td>\n",
       "      <td id=\"T_68252_row12_col8\" class=\"data row12 col8\" >0.2890</td>\n",
       "    </tr>\n",
       "    <tr>\n",
       "      <th id=\"T_68252_level0_row13\" class=\"row_heading level0 row13\" >qda</th>\n",
       "      <td id=\"T_68252_row13_col0\" class=\"data row13 col0\" >Quadratic Discriminant Analysis</td>\n",
       "      <td id=\"T_68252_row13_col1\" class=\"data row13 col1\" >0.5098</td>\n",
       "      <td id=\"T_68252_row13_col2\" class=\"data row13 col2\" >0.5876</td>\n",
       "      <td id=\"T_68252_row13_col3\" class=\"data row13 col3\" >0.5239</td>\n",
       "      <td id=\"T_68252_row13_col4\" class=\"data row13 col4\" >0.6526</td>\n",
       "      <td id=\"T_68252_row13_col5\" class=\"data row13 col5\" >0.3748</td>\n",
       "      <td id=\"T_68252_row13_col6\" class=\"data row13 col6\" >0.0195</td>\n",
       "      <td id=\"T_68252_row13_col7\" class=\"data row13 col7\" >0.0423</td>\n",
       "      <td id=\"T_68252_row13_col8\" class=\"data row13 col8\" >0.7220</td>\n",
       "    </tr>\n",
       "    <tr>\n",
       "      <th id=\"T_68252_level0_row14\" class=\"row_heading level0 row14\" >dummy</th>\n",
       "      <td id=\"T_68252_row14_col0\" class=\"data row14 col0\" >Dummy Classifier</td>\n",
       "      <td id=\"T_68252_row14_col1\" class=\"data row14 col1\" >0.5000</td>\n",
       "      <td id=\"T_68252_row14_col2\" class=\"data row14 col2\" >0.5000</td>\n",
       "      <td id=\"T_68252_row14_col3\" class=\"data row14 col3\" >0.5000</td>\n",
       "      <td id=\"T_68252_row14_col4\" class=\"data row14 col4\" >0.2500</td>\n",
       "      <td id=\"T_68252_row14_col5\" class=\"data row14 col5\" >0.3333</td>\n",
       "      <td id=\"T_68252_row14_col6\" class=\"data row14 col6\" >0.0000</td>\n",
       "      <td id=\"T_68252_row14_col7\" class=\"data row14 col7\" >0.0000</td>\n",
       "      <td id=\"T_68252_row14_col8\" class=\"data row14 col8\" >0.2550</td>\n",
       "    </tr>\n",
       "  </tbody>\n",
       "</table>\n"
      ],
      "text/plain": [
       "<pandas.io.formats.style.Styler at 0x7fbb33601340>"
      ]
     },
     "metadata": {},
     "output_type": "display_data"
    },
    {
     "data": {
      "text/html": [],
      "text/plain": [
       "<IPython.core.display.HTML object>"
      ]
     },
     "metadata": {},
     "output_type": "display_data"
    }
   ],
   "source": [
    "# compare baseline models\n",
    "best = compare_models()"
   ]
  },
  {
   "cell_type": "code",
   "execution_count": 46,
   "metadata": {},
   "outputs": [
    {
     "name": "stdout",
     "output_type": "stream",
     "text": [
      "Random Forest: Accuracy=0.923\n",
      "Random Forest: f1-score=0.923\n"
     ]
    }
   ],
   "source": [
    "from sklearn.ensemble import RandomForestClassifier\n",
    "clf = RandomForestClassifier(n_estimators=300, random_state = 1,n_jobs=-1)\n",
    "model = clf.fit(X_train, y_train)\n",
    "y_pred = model.predict(X_test)\n",
    "y_pred_prob = model.predict_proba(X_test)\n",
    "lr_probs = y_pred_prob[:,1]\n",
    "ac = accuracy_score(y_test, y_pred)\n",
    "\n",
    "f1 = f1_score(y_test, y_pred, average='weighted')\n",
    "\n",
    "print('Random Forest: Accuracy=%.3f' % (ac))\n",
    "\n",
    "print('Random Forest: f1-score=%.3f' % (f1))"
   ]
  },
  {
   "cell_type": "code",
   "execution_count": 47,
   "metadata": {},
   "outputs": [
    {
     "data": {
      "text/plain": [
       "<sklearn.metrics._plot.confusion_matrix.ConfusionMatrixDisplay at 0x7fbb33855970>"
      ]
     },
     "execution_count": 47,
     "metadata": {},
     "output_type": "execute_result"
    },
    {
     "data": {
      "image/png": "[encoded data removed]",
      "text/plain": [
       "<Figure size 432x288 with 2 Axes>"
      ]
     },
     "metadata": {
      "needs_background": "light"
     },
     "output_type": "display_data"
    }
   ],
   "source": [
    "cm = confusion_matrix(y_test, y_pred, labels = model.classes_)\n",
    "_, ax = plt.subplots()\n",
    "disp = ConfusionMatrixDisplay(confusion_matrix = cm, display_labels = ['no heart disease', 'heart disease'])\n",
    "ax.set_xticks([0, 1])\n",
    "ax.set_yticks([0, 1])\n",
    "ax.set_xticklabels(labels = ['no heart disease', 'heart disease'], fontsize = 8)\n",
    "ax.set_yticklabels(labels = ['no heart disease', 'heart disease'], fontsize = 8)\n",
    "disp.plot(ax = ax,cmap='Blues_r')"
   ]
  },
  {
   "cell_type": "code",
   "execution_count": 48,
   "metadata": {},
   "outputs": [
    {
     "name": "stdout",
     "output_type": "stream",
     "text": [
      "              precision    recall  f1-score   support\n",
      "\n",
      "         0.0       0.92      0.92      0.92     87481\n",
      "         1.0       0.92      0.92      0.92     87973\n",
      "\n",
      "    accuracy                           0.92    175454\n",
      "   macro avg       0.92      0.92      0.92    175454\n",
      "weighted avg       0.92      0.92      0.92    175454\n",
      "\n"
     ]
    }
   ],
   "source": [
    "print(classification_report(y_test, y_pred))"
   ]
  },
  {
   "cell_type": "code",
   "execution_count": 49,
   "metadata": {},
   "outputs": [],
   "source": [
    "y_pred_proba = model.predict_proba(X_test)[::,1]\n",
    "fpr, tpr, _ = roc_curve(y_test,  y_pred_proba)\n",
    "auc = roc_auc_score(y_test, y_pred_proba)"
   ]
  },
  {
   "cell_type": "code",
   "execution_count": 50,
   "metadata": {},
   "outputs": [
    {
     "data": {
      "image/png": "[encoded data removed]",
      "text/plain": [
       "<Figure size 432x288 with 1 Axes>"
      ]
     },
     "metadata": {
      "needs_background": "light"
     },
     "output_type": "display_data"
    }
   ],
   "source": [
    "plt.plot(fpr,tpr,label=\"AUC=\"+str(auc))\n",
    "plt.ylabel('True Positive Rate')\n",
    "plt.xlabel('False Positive Rate')\n",
    "plt.legend(loc=4)\n",
    "plt.show()"
   ]
  }
 ],
 "metadata": {
  "kernelspec": {
   "display_name": "Python 3",
   "language": "python",
   "name": "python3"
  },
  "language_info": {
   "codemirror_mode": {
    "name": "ipython",
    "version": 3
   },
   "file_extension": ".py",
   "mimetype": "text/x-python",
   "name": "python",
   "nbconvert_exporter": "python",
   "pygments_lexer": "ipython3",
   "version": "3.8.5"
  }
 },
 "nbformat": 4,
 "nbformat_minor": 5
}
